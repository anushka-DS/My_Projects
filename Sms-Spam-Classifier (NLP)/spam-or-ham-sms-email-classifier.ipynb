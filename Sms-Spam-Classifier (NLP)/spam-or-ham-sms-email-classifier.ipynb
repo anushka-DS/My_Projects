{
 "cells": [
  {
   "cell_type": "markdown",
   "metadata": {},
   "source": [
    "\n",
    "\n",
    "# <p style=\"background-color:white;font-family:newtimeroman;color:mediumturquoise;font-size:150%;text-align:center;border-radius:20px 60px;\">SPAM HAM DETECTOR</p>\n",
    "\n",
    "#### Classifying spam and ham messages is one of the most common natural language processing tasks for emails and chat engines. With the advancements in machine learning and natural language processing techniques, it is now possible to separate spam messages from ham messages with a high degree of accuracy.\n",
    "\n",
    "#### In this project,we  will see how to use machine learning algorithms and NLP techniquesfor ham and spam message classification. We will also deploy the final model on Heroku using pickel and Streamlit\n",
    "# <p style=\"background-color:white;font-family:newtimeroman;color:white;font-size:150%;text-align:center;border-radius:20px 60px;\"></p>\n",
    "\n",
    "![](https://codinghero.ai/wp-content/uploads/2020/10/Why-Do-We-Call-Junk-Email-Spam-.jpg)\n",
    "\n",
    "# <p style=\"background-color:white;font-family:newtimeroman;color:white;font-size:150%;text-align:center;border-radius:20px 60px;\"></p>\n",
    "   <a id='top'></a>\n",
    "<div class=\"list-group\" id=\"list-tab\" role=\"tablist\">\n",
    "<p style=\"background-color:turquoise;font-family:newtimeroman;color:white;font-size:150%;text-align:center;border-radius:20px 60px;\">TABLE OF CONTENTS</p>   \n",
    "    \n",
    "* [1. INITIAL SETUP](#1)\n",
    "    \n",
    "* [2. DATA CLEANING](#2)\n",
    "    \n",
    "* [3. DATA EXPLORATION](#3)\n",
    "    * [3.1 DATA IMBALANCE CHECK](#3.1)\n",
    "    * [3.2 FEATURE ENGINEERING](#3.2)\n",
    "    * [3.3 OUTLIER DETECTION](#3.3)\n",
    "    \n",
    "    \n",
    "* [4. DATA PREPREPROCESSING](#4)\n",
    "    \n",
    "    * [4.1 CLEANING TEXT](#4.1)\n",
    "    * [4.2 TOKENIZATION](#4.2)\n",
    "    * [4.3 REMOVING STOPWORDS](#4.3)\n",
    "    * [4.4 STEMMING](#4.4) \n",
    "    \n",
    "    \n",
    "* [5. VECTORIZATION](#5) \n",
    "      \n",
    "* [6. MODEL BUILDING](#6)\n",
    "    \n",
    "* [7. EVALUATING MODELS](#7)\n",
    "    \n",
    "* [8. MODEL IMROVEMENT](#8)\n",
    "    \n",
    "* [9. FINAL MODEL](#9)\n",
    "    \n",
    "* [10. CONCLUSION](#10)\n",
    "\n",
    "\n",
    "    \n"
   ]
  },
  {
   "cell_type": "markdown",
   "metadata": {},
   "source": [
    "<a id=\"1\"></a>\n",
    "# <p style=\"background-color:turquoise;font-family:newtimeroman;font-size:150%;color:white;text-align:center;border-radius:20px 60px;\">Initial Setup</p>"
   ]
  },
  {
   "cell_type": "code",
   "execution_count": 4,
   "metadata": {
    "execution": {
     "iopub.execute_input": "2022-04-28T03:25:49.267268Z",
     "iopub.status.busy": "2022-04-28T03:25:49.267001Z",
     "iopub.status.idle": "2022-04-28T03:25:49.274620Z",
     "shell.execute_reply": "2022-04-28T03:25:49.273714Z",
     "shell.execute_reply.started": "2022-04-28T03:25:49.267240Z"
    }
   },
   "outputs": [],
   "source": [
    "import numpy as np\n",
    "import pandas as pd\n",
    "import warnings\n",
    "import matplotlib.pyplot as plt\n",
    "import seaborn as sns\n",
    "import re\n",
    "import nltk\n",
    "from nltk.corpus import stopwords\n",
    "from nltk.stem.porter import PorterStemmer\n",
    "from nltk.stem import WordNetLemmatizer\n",
    "from sklearn.feature_extraction.text import TfidfVectorizer\n",
    "from sklearn.preprocessing import LabelEncoder\n",
    "from sklearn.model_selection import train_test_split\n",
    "from sklearn.pipeline import Pipeline    \n",
    "from sklearn.naive_bayes import MultinomialNB\n",
    "from sklearn.ensemble import RandomForestClassifier\n",
    "from sklearn.neighbors import KNeighborsClassifier\n",
    "from sklearn.svm import SVC\n",
    "from sklearn.model_selection import cross_val_score\n",
    "from matplotlib.colors import ListedColormap\n",
    "from sklearn.metrics import precision_score, recall_score, plot_confusion_matrix, classification_report, accuracy_score, f1_score\n",
    "from sklearn import metrics"
   ]
  },
  {
   "cell_type": "code",
   "execution_count": null,
   "metadata": {},
   "outputs": [],
   "source": [
    "#cd ../input/sms-spam-collection-dataset"
   ]
  },
  {
   "cell_type": "code",
   "execution_count": 6,
   "metadata": {
    "execution": {
     "iopub.execute_input": "2022-04-28T03:25:49.414450Z",
     "iopub.status.busy": "2022-04-28T03:25:49.414181Z",
     "iopub.status.idle": "2022-04-28T03:25:49.446371Z",
     "shell.execute_reply": "2022-04-28T03:25:49.445621Z",
     "shell.execute_reply.started": "2022-04-28T03:25:49.414418Z"
    }
   },
   "outputs": [],
   "source": [
    "df = pd.read_csv('spam.csv', encoding = \"ISO-8859-1\")"
   ]
  },
  {
   "cell_type": "code",
   "execution_count": 7,
   "metadata": {
    "execution": {
     "iopub.execute_input": "2022-04-28T03:25:49.466992Z",
     "iopub.status.busy": "2022-04-28T03:25:49.466280Z",
     "iopub.status.idle": "2022-04-28T03:25:49.488912Z",
     "shell.execute_reply": "2022-04-28T03:25:49.488085Z",
     "shell.execute_reply.started": "2022-04-28T03:25:49.466952Z"
    }
   },
   "outputs": [
    {
     "data": {
      "text/html": [
       "<div>\n",
       "<style scoped>\n",
       "    .dataframe tbody tr th:only-of-type {\n",
       "        vertical-align: middle;\n",
       "    }\n",
       "\n",
       "    .dataframe tbody tr th {\n",
       "        vertical-align: top;\n",
       "    }\n",
       "\n",
       "    .dataframe thead th {\n",
       "        text-align: right;\n",
       "    }\n",
       "</style>\n",
       "<table border=\"1\" class=\"dataframe\">\n",
       "  <thead>\n",
       "    <tr style=\"text-align: right;\">\n",
       "      <th></th>\n",
       "      <th>v1</th>\n",
       "      <th>v2</th>\n",
       "      <th>Unnamed: 2</th>\n",
       "      <th>Unnamed: 3</th>\n",
       "      <th>Unnamed: 4</th>\n",
       "    </tr>\n",
       "  </thead>\n",
       "  <tbody>\n",
       "    <tr>\n",
       "      <th>4806</th>\n",
       "      <td>spam</td>\n",
       "      <td>PRIVATE! Your 2004 Account Statement for 07849...</td>\n",
       "      <td>NaN</td>\n",
       "      <td>NaN</td>\n",
       "      <td>NaN</td>\n",
       "    </tr>\n",
       "    <tr>\n",
       "      <th>2194</th>\n",
       "      <td>ham</td>\n",
       "      <td>Hi my email address has changed now it is</td>\n",
       "      <td>NaN</td>\n",
       "      <td>NaN</td>\n",
       "      <td>NaN</td>\n",
       "    </tr>\n",
       "    <tr>\n",
       "      <th>1950</th>\n",
       "      <td>ham</td>\n",
       "      <td>Oh ic. I thought you meant mary jane.</td>\n",
       "      <td>NaN</td>\n",
       "      <td>NaN</td>\n",
       "      <td>NaN</td>\n",
       "    </tr>\n",
       "    <tr>\n",
       "      <th>1283</th>\n",
       "      <td>ham</td>\n",
       "      <td>Yes i thought so. Thanks.</td>\n",
       "      <td>NaN</td>\n",
       "      <td>NaN</td>\n",
       "      <td>NaN</td>\n",
       "    </tr>\n",
       "    <tr>\n",
       "      <th>3946</th>\n",
       "      <td>ham</td>\n",
       "      <td>Sorry, went to bed early, nightnight</td>\n",
       "      <td>NaN</td>\n",
       "      <td>NaN</td>\n",
       "      <td>NaN</td>\n",
       "    </tr>\n",
       "  </tbody>\n",
       "</table>\n",
       "</div>"
      ],
      "text/plain": [
       "        v1                                                 v2 Unnamed: 2  \\\n",
       "4806  spam  PRIVATE! Your 2004 Account Statement for 07849...        NaN   \n",
       "2194   ham         Hi my email address has changed now it is         NaN   \n",
       "1950   ham              Oh ic. I thought you meant mary jane.        NaN   \n",
       "1283   ham                          Yes i thought so. Thanks.        NaN   \n",
       "3946   ham               Sorry, went to bed early, nightnight        NaN   \n",
       "\n",
       "     Unnamed: 3 Unnamed: 4  \n",
       "4806        NaN        NaN  \n",
       "2194        NaN        NaN  \n",
       "1950        NaN        NaN  \n",
       "1283        NaN        NaN  \n",
       "3946        NaN        NaN  "
      ]
     },
     "execution_count": 7,
     "metadata": {},
     "output_type": "execute_result"
    }
   ],
   "source": [
    "df.sample(5)"
   ]
  },
  {
   "cell_type": "code",
   "execution_count": 8,
   "metadata": {
    "execution": {
     "iopub.execute_input": "2022-04-28T03:25:49.491762Z",
     "iopub.status.busy": "2022-04-28T03:25:49.491097Z",
     "iopub.status.idle": "2022-04-28T03:25:49.496302Z",
     "shell.execute_reply": "2022-04-28T03:25:49.495678Z",
     "shell.execute_reply.started": "2022-04-28T03:25:49.491723Z"
    }
   },
   "outputs": [
    {
     "data": {
      "text/plain": [
       "(5572, 5)"
      ]
     },
     "execution_count": 8,
     "metadata": {},
     "output_type": "execute_result"
    }
   ],
   "source": [
    "df.shape"
   ]
  },
  {
   "cell_type": "markdown",
   "metadata": {},
   "source": [
    "#### We have around 5.5K messages to analyze in our dataset. \n",
    "\n",
    "**The data is designated as being ham or spam.  We mainly need to deal with these two columns. The first column is \"Target\" indicating the class of message as ham or spam and the second \"Text\" column is the string of text.**"
   ]
  },
  {
   "cell_type": "markdown",
   "metadata": {},
   "source": [
    "<a id=\"2\"></a>\n",
    "# <p style=\"background-color:turquoise;font-family:newtimeroman;font-size:150%;color:white;text-align:center;border-radius:20px 60px;\">Data Cleaning</p>\n",
    "\n",
    "An important step before proceeding is to clean our data and ensure it is in the desired format\n",
    "\n",
    "#### This includes :\n",
    "\n",
    "    Dropping non-useful/redundant columns\n",
    "    \n",
    "    Label Encoding our data - 0:ham and 1:spam\n",
    "    \n",
    "    Null values analysis\n",
    "    \n",
    "    Duplicate values analysis etc."
   ]
  },
  {
   "cell_type": "code",
   "execution_count": 9,
   "metadata": {
    "execution": {
     "iopub.execute_input": "2022-04-28T03:25:49.502643Z",
     "iopub.status.busy": "2022-04-28T03:25:49.502329Z",
     "iopub.status.idle": "2022-04-28T03:25:49.528122Z",
     "shell.execute_reply": "2022-04-28T03:25:49.527319Z",
     "shell.execute_reply.started": "2022-04-28T03:25:49.502578Z"
    }
   },
   "outputs": [
    {
     "name": "stdout",
     "output_type": "stream",
     "text": [
      "<class 'pandas.core.frame.DataFrame'>\n",
      "RangeIndex: 5572 entries, 0 to 5571\n",
      "Data columns (total 5 columns):\n",
      " #   Column      Non-Null Count  Dtype \n",
      "---  ------      --------------  ----- \n",
      " 0   v1          5572 non-null   object\n",
      " 1   v2          5572 non-null   object\n",
      " 2   Unnamed: 2  50 non-null     object\n",
      " 3   Unnamed: 3  12 non-null     object\n",
      " 4   Unnamed: 4  6 non-null      object\n",
      "dtypes: object(5)\n",
      "memory usage: 217.8+ KB\n"
     ]
    }
   ],
   "source": [
    "df.info()"
   ]
  },
  {
   "cell_type": "code",
   "execution_count": 10,
   "metadata": {
    "execution": {
     "iopub.execute_input": "2022-04-28T03:25:49.530083Z",
     "iopub.status.busy": "2022-04-28T03:25:49.529662Z",
     "iopub.status.idle": "2022-04-28T03:25:49.541843Z",
     "shell.execute_reply": "2022-04-28T03:25:49.541120Z",
     "shell.execute_reply.started": "2022-04-28T03:25:49.530048Z"
    }
   },
   "outputs": [],
   "source": [
    "# drop last 3 cols as they don't make enough sense\n",
    "\n",
    "df.drop(columns=['Unnamed: 2','Unnamed: 3','Unnamed: 4'],inplace=True)"
   ]
  },
  {
   "cell_type": "code",
   "execution_count": 11,
   "metadata": {
    "execution": {
     "iopub.execute_input": "2022-04-28T03:25:49.546679Z",
     "iopub.status.busy": "2022-04-28T03:25:49.545771Z",
     "iopub.status.idle": "2022-04-28T03:25:49.560297Z",
     "shell.execute_reply": "2022-04-28T03:25:49.559652Z",
     "shell.execute_reply.started": "2022-04-28T03:25:49.546630Z"
    }
   },
   "outputs": [
    {
     "data": {
      "text/html": [
       "<div>\n",
       "<style scoped>\n",
       "    .dataframe tbody tr th:only-of-type {\n",
       "        vertical-align: middle;\n",
       "    }\n",
       "\n",
       "    .dataframe tbody tr th {\n",
       "        vertical-align: top;\n",
       "    }\n",
       "\n",
       "    .dataframe thead th {\n",
       "        text-align: right;\n",
       "    }\n",
       "</style>\n",
       "<table border=\"1\" class=\"dataframe\">\n",
       "  <thead>\n",
       "    <tr style=\"text-align: right;\">\n",
       "      <th></th>\n",
       "      <th>v1</th>\n",
       "      <th>v2</th>\n",
       "    </tr>\n",
       "  </thead>\n",
       "  <tbody>\n",
       "    <tr>\n",
       "      <th>5435</th>\n",
       "      <td>ham</td>\n",
       "      <td>I'm wif him now buying tix lar...</td>\n",
       "    </tr>\n",
       "    <tr>\n",
       "      <th>959</th>\n",
       "      <td>ham</td>\n",
       "      <td>Where @</td>\n",
       "    </tr>\n",
       "    <tr>\n",
       "      <th>5175</th>\n",
       "      <td>ham</td>\n",
       "      <td>Raji..pls do me a favour. Pls convey my Birthd...</td>\n",
       "    </tr>\n",
       "    <tr>\n",
       "      <th>1087</th>\n",
       "      <td>ham</td>\n",
       "      <td>You can never do NOTHING</td>\n",
       "    </tr>\n",
       "    <tr>\n",
       "      <th>2559</th>\n",
       "      <td>ham</td>\n",
       "      <td>I also thk too fast... Xy suggest one not me. ...</td>\n",
       "    </tr>\n",
       "  </tbody>\n",
       "</table>\n",
       "</div>"
      ],
      "text/plain": [
       "       v1                                                 v2\n",
       "5435  ham                  I'm wif him now buying tix lar...\n",
       "959   ham                                            Where @\n",
       "5175  ham  Raji..pls do me a favour. Pls convey my Birthd...\n",
       "1087  ham                           You can never do NOTHING\n",
       "2559  ham  I also thk too fast... Xy suggest one not me. ..."
      ]
     },
     "execution_count": 11,
     "metadata": {},
     "output_type": "execute_result"
    }
   ],
   "source": [
    "df.sample(5)"
   ]
  },
  {
   "cell_type": "code",
   "execution_count": 12,
   "metadata": {
    "execution": {
     "iopub.execute_input": "2022-04-28T03:25:49.569326Z",
     "iopub.status.busy": "2022-04-28T03:25:49.569055Z",
     "iopub.status.idle": "2022-04-28T03:25:49.579910Z",
     "shell.execute_reply": "2022-04-28T03:25:49.578946Z",
     "shell.execute_reply.started": "2022-04-28T03:25:49.569297Z"
    }
   },
   "outputs": [
    {
     "data": {
      "text/html": [
       "<div>\n",
       "<style scoped>\n",
       "    .dataframe tbody tr th:only-of-type {\n",
       "        vertical-align: middle;\n",
       "    }\n",
       "\n",
       "    .dataframe tbody tr th {\n",
       "        vertical-align: top;\n",
       "    }\n",
       "\n",
       "    .dataframe thead th {\n",
       "        text-align: right;\n",
       "    }\n",
       "</style>\n",
       "<table border=\"1\" class=\"dataframe\">\n",
       "  <thead>\n",
       "    <tr style=\"text-align: right;\">\n",
       "      <th></th>\n",
       "      <th>target</th>\n",
       "      <th>text</th>\n",
       "    </tr>\n",
       "  </thead>\n",
       "  <tbody>\n",
       "    <tr>\n",
       "      <th>3056</th>\n",
       "      <td>ham</td>\n",
       "      <td>Just woke up. Yeesh its late. But I didn't fal...</td>\n",
       "    </tr>\n",
       "    <tr>\n",
       "      <th>4262</th>\n",
       "      <td>ham</td>\n",
       "      <td>Den only weekdays got special price... Haiz......</td>\n",
       "    </tr>\n",
       "    <tr>\n",
       "      <th>37</th>\n",
       "      <td>ham</td>\n",
       "      <td>I see the letter B on my car</td>\n",
       "    </tr>\n",
       "    <tr>\n",
       "      <th>806</th>\n",
       "      <td>ham</td>\n",
       "      <td>sure, but make sure he knows we ain't smokin yet</td>\n",
       "    </tr>\n",
       "    <tr>\n",
       "      <th>1802</th>\n",
       "      <td>ham</td>\n",
       "      <td>Ok lor thanx... ÌÏ in school?</td>\n",
       "    </tr>\n",
       "  </tbody>\n",
       "</table>\n",
       "</div>"
      ],
      "text/plain": [
       "     target                                               text\n",
       "3056    ham  Just woke up. Yeesh its late. But I didn't fal...\n",
       "4262    ham  Den only weekdays got special price... Haiz......\n",
       "37      ham                       I see the letter B on my car\n",
       "806     ham   sure, but make sure he knows we ain't smokin yet\n",
       "1802    ham                      Ok lor thanx... ÌÏ in school?"
      ]
     },
     "execution_count": 12,
     "metadata": {},
     "output_type": "execute_result"
    }
   ],
   "source": [
    "# renaming the cols\n",
    "df.rename(columns={'v1':'target','v2':'text'},inplace=True)\n",
    "df.sample(5)"
   ]
  },
  {
   "cell_type": "code",
   "execution_count": 13,
   "metadata": {
    "execution": {
     "iopub.execute_input": "2022-04-28T03:25:49.595965Z",
     "iopub.status.busy": "2022-04-28T03:25:49.595567Z",
     "iopub.status.idle": "2022-04-28T03:25:49.599251Z",
     "shell.execute_reply": "2022-04-28T03:25:49.598697Z",
     "shell.execute_reply.started": "2022-04-28T03:25:49.595936Z"
    }
   },
   "outputs": [],
   "source": [
    "from sklearn.preprocessing import LabelEncoder\n",
    "encoder = LabelEncoder()"
   ]
  },
  {
   "cell_type": "code",
   "execution_count": 14,
   "metadata": {
    "execution": {
     "iopub.execute_input": "2022-04-28T03:25:49.604280Z",
     "iopub.status.busy": "2022-04-28T03:25:49.603814Z",
     "iopub.status.idle": "2022-04-28T03:25:49.613519Z",
     "shell.execute_reply": "2022-04-28T03:25:49.612816Z",
     "shell.execute_reply.started": "2022-04-28T03:25:49.604252Z"
    }
   },
   "outputs": [],
   "source": [
    "df['target'] = encoder.fit_transform(df['target'])"
   ]
  },
  {
   "cell_type": "code",
   "execution_count": 15,
   "metadata": {
    "execution": {
     "iopub.execute_input": "2022-04-28T03:25:49.623394Z",
     "iopub.status.busy": "2022-04-28T03:25:49.623041Z",
     "iopub.status.idle": "2022-04-28T03:25:49.631345Z",
     "shell.execute_reply": "2022-04-28T03:25:49.630516Z",
     "shell.execute_reply.started": "2022-04-28T03:25:49.623367Z"
    }
   },
   "outputs": [
    {
     "data": {
      "text/html": [
       "<div>\n",
       "<style scoped>\n",
       "    .dataframe tbody tr th:only-of-type {\n",
       "        vertical-align: middle;\n",
       "    }\n",
       "\n",
       "    .dataframe tbody tr th {\n",
       "        vertical-align: top;\n",
       "    }\n",
       "\n",
       "    .dataframe thead th {\n",
       "        text-align: right;\n",
       "    }\n",
       "</style>\n",
       "<table border=\"1\" class=\"dataframe\">\n",
       "  <thead>\n",
       "    <tr style=\"text-align: right;\">\n",
       "      <th></th>\n",
       "      <th>target</th>\n",
       "      <th>text</th>\n",
       "    </tr>\n",
       "  </thead>\n",
       "  <tbody>\n",
       "    <tr>\n",
       "      <th>0</th>\n",
       "      <td>0</td>\n",
       "      <td>Go until jurong point, crazy.. Available only ...</td>\n",
       "    </tr>\n",
       "    <tr>\n",
       "      <th>1</th>\n",
       "      <td>0</td>\n",
       "      <td>Ok lar... Joking wif u oni...</td>\n",
       "    </tr>\n",
       "    <tr>\n",
       "      <th>2</th>\n",
       "      <td>1</td>\n",
       "      <td>Free entry in 2 a wkly comp to win FA Cup fina...</td>\n",
       "    </tr>\n",
       "    <tr>\n",
       "      <th>3</th>\n",
       "      <td>0</td>\n",
       "      <td>U dun say so early hor... U c already then say...</td>\n",
       "    </tr>\n",
       "    <tr>\n",
       "      <th>4</th>\n",
       "      <td>0</td>\n",
       "      <td>Nah I don't think he goes to usf, he lives aro...</td>\n",
       "    </tr>\n",
       "  </tbody>\n",
       "</table>\n",
       "</div>"
      ],
      "text/plain": [
       "   target                                               text\n",
       "0       0  Go until jurong point, crazy.. Available only ...\n",
       "1       0                      Ok lar... Joking wif u oni...\n",
       "2       1  Free entry in 2 a wkly comp to win FA Cup fina...\n",
       "3       0  U dun say so early hor... U c already then say...\n",
       "4       0  Nah I don't think he goes to usf, he lives aro..."
      ]
     },
     "execution_count": 15,
     "metadata": {},
     "output_type": "execute_result"
    }
   ],
   "source": [
    "df.head()"
   ]
  },
  {
   "cell_type": "code",
   "execution_count": 16,
   "metadata": {
    "execution": {
     "iopub.execute_input": "2022-04-28T03:25:49.640046Z",
     "iopub.status.busy": "2022-04-28T03:25:49.639832Z",
     "iopub.status.idle": "2022-04-28T03:25:49.647366Z",
     "shell.execute_reply": "2022-04-28T03:25:49.646643Z",
     "shell.execute_reply.started": "2022-04-28T03:25:49.640020Z"
    }
   },
   "outputs": [
    {
     "data": {
      "text/plain": [
       "target    0\n",
       "text      0\n",
       "dtype: int64"
      ]
     },
     "execution_count": 16,
     "metadata": {},
     "output_type": "execute_result"
    }
   ],
   "source": [
    "# missing values\n",
    "df.isnull().sum()"
   ]
  },
  {
   "cell_type": "code",
   "execution_count": 17,
   "metadata": {
    "execution": {
     "iopub.execute_input": "2022-04-28T03:25:49.661123Z",
     "iopub.status.busy": "2022-04-28T03:25:49.660894Z",
     "iopub.status.idle": "2022-04-28T03:25:49.671879Z",
     "shell.execute_reply": "2022-04-28T03:25:49.671010Z",
     "shell.execute_reply.started": "2022-04-28T03:25:49.661098Z"
    }
   },
   "outputs": [
    {
     "data": {
      "text/plain": [
       "403"
      ]
     },
     "execution_count": 17,
     "metadata": {},
     "output_type": "execute_result"
    }
   ],
   "source": [
    "# check for duplicate values\n",
    "df.duplicated().sum()"
   ]
  },
  {
   "cell_type": "code",
   "execution_count": 18,
   "metadata": {
    "execution": {
     "iopub.execute_input": "2022-04-28T03:25:49.685755Z",
     "iopub.status.busy": "2022-04-28T03:25:49.685298Z",
     "iopub.status.idle": "2022-04-28T03:25:49.695030Z",
     "shell.execute_reply": "2022-04-28T03:25:49.694247Z",
     "shell.execute_reply.started": "2022-04-28T03:25:49.685721Z"
    }
   },
   "outputs": [],
   "source": [
    "# remove duplicates\n",
    "df = df.drop_duplicates(keep='first')"
   ]
  },
  {
   "cell_type": "code",
   "execution_count": 19,
   "metadata": {
    "execution": {
     "iopub.execute_input": "2022-04-28T03:25:49.702858Z",
     "iopub.status.busy": "2022-04-28T03:25:49.702508Z",
     "iopub.status.idle": "2022-04-28T03:25:49.711145Z",
     "shell.execute_reply": "2022-04-28T03:25:49.710518Z",
     "shell.execute_reply.started": "2022-04-28T03:25:49.702830Z"
    }
   },
   "outputs": [
    {
     "data": {
      "text/plain": [
       "0"
      ]
     },
     "execution_count": 19,
     "metadata": {},
     "output_type": "execute_result"
    }
   ],
   "source": [
    "df.duplicated().sum()"
   ]
  },
  {
   "cell_type": "code",
   "execution_count": 20,
   "metadata": {
    "execution": {
     "iopub.execute_input": "2022-04-28T03:25:49.723301Z",
     "iopub.status.busy": "2022-04-28T03:25:49.722934Z",
     "iopub.status.idle": "2022-04-28T03:25:49.728974Z",
     "shell.execute_reply": "2022-04-28T03:25:49.728196Z",
     "shell.execute_reply.started": "2022-04-28T03:25:49.723274Z"
    }
   },
   "outputs": [
    {
     "data": {
      "text/plain": [
       "(5169, 2)"
      ]
     },
     "execution_count": 20,
     "metadata": {},
     "output_type": "execute_result"
    }
   ],
   "source": [
    "df.shape"
   ]
  },
  {
   "cell_type": "markdown",
   "metadata": {},
   "source": [
    "<a id=\"3\"></a>\n",
    "# <p style=\"background-color:mediumturquoise;font-family:newtimeroman;font-size:150%;color:white;text-align:center;border-radius:20px 60px;\">Data Exploration</p>"
   ]
  },
  {
   "cell_type": "code",
   "execution_count": 21,
   "metadata": {
    "execution": {
     "iopub.execute_input": "2022-04-28T03:25:49.751702Z",
     "iopub.status.busy": "2022-04-28T03:25:49.750990Z",
     "iopub.status.idle": "2022-04-28T03:25:49.760113Z",
     "shell.execute_reply": "2022-04-28T03:25:49.759269Z",
     "shell.execute_reply.started": "2022-04-28T03:25:49.751656Z"
    }
   },
   "outputs": [
    {
     "data": {
      "text/html": [
       "<div>\n",
       "<style scoped>\n",
       "    .dataframe tbody tr th:only-of-type {\n",
       "        vertical-align: middle;\n",
       "    }\n",
       "\n",
       "    .dataframe tbody tr th {\n",
       "        vertical-align: top;\n",
       "    }\n",
       "\n",
       "    .dataframe thead th {\n",
       "        text-align: right;\n",
       "    }\n",
       "</style>\n",
       "<table border=\"1\" class=\"dataframe\">\n",
       "  <thead>\n",
       "    <tr style=\"text-align: right;\">\n",
       "      <th></th>\n",
       "      <th>target</th>\n",
       "      <th>text</th>\n",
       "    </tr>\n",
       "  </thead>\n",
       "  <tbody>\n",
       "    <tr>\n",
       "      <th>0</th>\n",
       "      <td>0</td>\n",
       "      <td>Go until jurong point, crazy.. Available only ...</td>\n",
       "    </tr>\n",
       "    <tr>\n",
       "      <th>1</th>\n",
       "      <td>0</td>\n",
       "      <td>Ok lar... Joking wif u oni...</td>\n",
       "    </tr>\n",
       "    <tr>\n",
       "      <th>2</th>\n",
       "      <td>1</td>\n",
       "      <td>Free entry in 2 a wkly comp to win FA Cup fina...</td>\n",
       "    </tr>\n",
       "    <tr>\n",
       "      <th>3</th>\n",
       "      <td>0</td>\n",
       "      <td>U dun say so early hor... U c already then say...</td>\n",
       "    </tr>\n",
       "    <tr>\n",
       "      <th>4</th>\n",
       "      <td>0</td>\n",
       "      <td>Nah I don't think he goes to usf, he lives aro...</td>\n",
       "    </tr>\n",
       "  </tbody>\n",
       "</table>\n",
       "</div>"
      ],
      "text/plain": [
       "   target                                               text\n",
       "0       0  Go until jurong point, crazy.. Available only ...\n",
       "1       0                      Ok lar... Joking wif u oni...\n",
       "2       1  Free entry in 2 a wkly comp to win FA Cup fina...\n",
       "3       0  U dun say so early hor... U c already then say...\n",
       "4       0  Nah I don't think he goes to usf, he lives aro..."
      ]
     },
     "execution_count": 21,
     "metadata": {},
     "output_type": "execute_result"
    }
   ],
   "source": [
    "df.head()"
   ]
  },
  {
   "cell_type": "code",
   "execution_count": 22,
   "metadata": {
    "execution": {
     "iopub.execute_input": "2022-04-28T03:25:49.779511Z",
     "iopub.status.busy": "2022-04-28T03:25:49.778842Z",
     "iopub.status.idle": "2022-04-28T03:25:49.785976Z",
     "shell.execute_reply": "2022-04-28T03:25:49.785125Z",
     "shell.execute_reply.started": "2022-04-28T03:25:49.779470Z"
    }
   },
   "outputs": [
    {
     "data": {
      "text/plain": [
       "0    4516\n",
       "1     653\n",
       "Name: target, dtype: int64"
      ]
     },
     "execution_count": 22,
     "metadata": {},
     "output_type": "execute_result"
    }
   ],
   "source": [
    "df['target'].value_counts()"
   ]
  },
  {
   "cell_type": "markdown",
   "metadata": {},
   "source": [
    "<a id=\"3.1\"></a>\n",
    "# <p style=\"background-color:turquoise;font-family:newtimeroman;font-size:120%;color:white;text-align:center;border-radius:20px 60px;\">Data Imbalance Check</p>"
   ]
  },
  {
   "cell_type": "code",
   "execution_count": 23,
   "metadata": {
    "execution": {
     "iopub.execute_input": "2022-04-28T03:25:49.796947Z",
     "iopub.status.busy": "2022-04-28T03:25:49.796355Z",
     "iopub.status.idle": "2022-04-28T03:25:49.942996Z",
     "shell.execute_reply": "2022-04-28T03:25:49.942180Z",
     "shell.execute_reply.started": "2022-04-28T03:25:49.796912Z"
    }
   },
   "outputs": [
    {
     "data": {
      "image/png": "[encoded data removed]",
      "text/plain": [
       "<Figure size 720x576 with 1 Axes>"
      ]
     },
     "metadata": {},
     "output_type": "display_data"
    }
   ],
   "source": [
    "import matplotlib.pyplot as plt\n",
    "plt.figure(figsize=(10,8))\n",
    "plt.pie(df['target'].value_counts(), labels=['ham','spam'], autopct='%1.1f%%', colors = ['turquoise','#ff8975'], startangle=90, explode = (0, 0.1))\n",
    "plt.show()\n"
   ]
  },
  {
   "cell_type": "markdown",
   "metadata": {},
   "source": [
    "### Data is clealy imbalanced"
   ]
  },
  {
   "cell_type": "markdown",
   "metadata": {},
   "source": [
    "<a id=\"3.2\"></a>\n",
    "# <p style=\"background-color:turquoise;font-family:newtimeroman;font-size:120%;color:white;text-align:center;border-radius:20px 60px;\">Feature Engineering</p>"
   ]
  },
  {
   "cell_type": "code",
   "execution_count": 24,
   "metadata": {
    "execution": {
     "iopub.execute_input": "2022-04-28T03:25:49.945423Z",
     "iopub.status.busy": "2022-04-28T03:25:49.944561Z",
     "iopub.status.idle": "2022-04-28T03:25:51.368741Z",
     "shell.execute_reply": "2022-04-28T03:25:51.367986Z",
     "shell.execute_reply.started": "2022-04-28T03:25:49.945381Z"
    }
   },
   "outputs": [],
   "source": [
    "import nltk\n",
    "df['num_characters'] = df['text'].apply(len)\n",
    "\n",
    "# num of words\n",
    "df['num_words'] = df['text'].apply(lambda x:len(nltk.word_tokenize(x)))\n",
    "\n",
    "# num of sentences\n",
    "df['num_sentences'] = df['text'].apply(lambda x:len(nltk.sent_tokenize(x)))"
   ]
  },
  {
   "cell_type": "code",
   "execution_count": 25,
   "metadata": {
    "execution": {
     "iopub.execute_input": "2022-04-28T03:25:51.370336Z",
     "iopub.status.busy": "2022-04-28T03:25:51.369898Z",
     "iopub.status.idle": "2022-04-28T03:25:51.393095Z",
     "shell.execute_reply": "2022-04-28T03:25:51.392367Z",
     "shell.execute_reply.started": "2022-04-28T03:25:51.370299Z"
    }
   },
   "outputs": [
    {
     "data": {
      "text/html": [
       "<div>\n",
       "<style scoped>\n",
       "    .dataframe tbody tr th:only-of-type {\n",
       "        vertical-align: middle;\n",
       "    }\n",
       "\n",
       "    .dataframe tbody tr th {\n",
       "        vertical-align: top;\n",
       "    }\n",
       "\n",
       "    .dataframe thead th {\n",
       "        text-align: right;\n",
       "    }\n",
       "</style>\n",
       "<table border=\"1\" class=\"dataframe\">\n",
       "  <thead>\n",
       "    <tr style=\"text-align: right;\">\n",
       "      <th></th>\n",
       "      <th>num_characters</th>\n",
       "      <th>num_words</th>\n",
       "      <th>num_sentences</th>\n",
       "    </tr>\n",
       "  </thead>\n",
       "  <tbody>\n",
       "    <tr>\n",
       "      <th>count</th>\n",
       "      <td>4516.000000</td>\n",
       "      <td>4516.000000</td>\n",
       "      <td>4516.000000</td>\n",
       "    </tr>\n",
       "    <tr>\n",
       "      <th>mean</th>\n",
       "      <td>70.459256</td>\n",
       "      <td>16.957484</td>\n",
       "      <td>1.815545</td>\n",
       "    </tr>\n",
       "    <tr>\n",
       "      <th>std</th>\n",
       "      <td>56.358207</td>\n",
       "      <td>13.394052</td>\n",
       "      <td>1.364098</td>\n",
       "    </tr>\n",
       "    <tr>\n",
       "      <th>min</th>\n",
       "      <td>2.000000</td>\n",
       "      <td>1.000000</td>\n",
       "      <td>1.000000</td>\n",
       "    </tr>\n",
       "    <tr>\n",
       "      <th>25%</th>\n",
       "      <td>34.000000</td>\n",
       "      <td>8.000000</td>\n",
       "      <td>1.000000</td>\n",
       "    </tr>\n",
       "    <tr>\n",
       "      <th>50%</th>\n",
       "      <td>52.000000</td>\n",
       "      <td>13.000000</td>\n",
       "      <td>1.000000</td>\n",
       "    </tr>\n",
       "    <tr>\n",
       "      <th>75%</th>\n",
       "      <td>90.000000</td>\n",
       "      <td>22.000000</td>\n",
       "      <td>2.000000</td>\n",
       "    </tr>\n",
       "    <tr>\n",
       "      <th>max</th>\n",
       "      <td>910.000000</td>\n",
       "      <td>219.000000</td>\n",
       "      <td>38.000000</td>\n",
       "    </tr>\n",
       "  </tbody>\n",
       "</table>\n",
       "</div>"
      ],
      "text/plain": [
       "       num_characters    num_words  num_sentences\n",
       "count     4516.000000  4516.000000    4516.000000\n",
       "mean        70.459256    16.957484       1.815545\n",
       "std         56.358207    13.394052       1.364098\n",
       "min          2.000000     1.000000       1.000000\n",
       "25%         34.000000     8.000000       1.000000\n",
       "50%         52.000000    13.000000       1.000000\n",
       "75%         90.000000    22.000000       2.000000\n",
       "max        910.000000   219.000000      38.000000"
      ]
     },
     "execution_count": 25,
     "metadata": {},
     "output_type": "execute_result"
    }
   ],
   "source": [
    "# ham\n",
    "df[df['target'] == 0][['num_characters','num_words','num_sentences']].describe()"
   ]
  },
  {
   "cell_type": "code",
   "execution_count": 26,
   "metadata": {
    "execution": {
     "iopub.execute_input": "2022-04-28T03:25:51.394858Z",
     "iopub.status.busy": "2022-04-28T03:25:51.394661Z",
     "iopub.status.idle": "2022-04-28T03:25:51.413047Z",
     "shell.execute_reply": "2022-04-28T03:25:51.412207Z",
     "shell.execute_reply.started": "2022-04-28T03:25:51.394834Z"
    }
   },
   "outputs": [
    {
     "data": {
      "text/html": [
       "<div>\n",
       "<style scoped>\n",
       "    .dataframe tbody tr th:only-of-type {\n",
       "        vertical-align: middle;\n",
       "    }\n",
       "\n",
       "    .dataframe tbody tr th {\n",
       "        vertical-align: top;\n",
       "    }\n",
       "\n",
       "    .dataframe thead th {\n",
       "        text-align: right;\n",
       "    }\n",
       "</style>\n",
       "<table border=\"1\" class=\"dataframe\">\n",
       "  <thead>\n",
       "    <tr style=\"text-align: right;\">\n",
       "      <th></th>\n",
       "      <th>num_characters</th>\n",
       "      <th>num_words</th>\n",
       "      <th>num_sentences</th>\n",
       "    </tr>\n",
       "  </thead>\n",
       "  <tbody>\n",
       "    <tr>\n",
       "      <th>count</th>\n",
       "      <td>653.000000</td>\n",
       "      <td>653.000000</td>\n",
       "      <td>653.000000</td>\n",
       "    </tr>\n",
       "    <tr>\n",
       "      <th>mean</th>\n",
       "      <td>137.891271</td>\n",
       "      <td>27.474732</td>\n",
       "      <td>2.969372</td>\n",
       "    </tr>\n",
       "    <tr>\n",
       "      <th>std</th>\n",
       "      <td>30.137753</td>\n",
       "      <td>6.893007</td>\n",
       "      <td>1.488910</td>\n",
       "    </tr>\n",
       "    <tr>\n",
       "      <th>min</th>\n",
       "      <td>13.000000</td>\n",
       "      <td>2.000000</td>\n",
       "      <td>1.000000</td>\n",
       "    </tr>\n",
       "    <tr>\n",
       "      <th>25%</th>\n",
       "      <td>132.000000</td>\n",
       "      <td>25.000000</td>\n",
       "      <td>2.000000</td>\n",
       "    </tr>\n",
       "    <tr>\n",
       "      <th>50%</th>\n",
       "      <td>149.000000</td>\n",
       "      <td>29.000000</td>\n",
       "      <td>3.000000</td>\n",
       "    </tr>\n",
       "    <tr>\n",
       "      <th>75%</th>\n",
       "      <td>157.000000</td>\n",
       "      <td>32.000000</td>\n",
       "      <td>4.000000</td>\n",
       "    </tr>\n",
       "    <tr>\n",
       "      <th>max</th>\n",
       "      <td>224.000000</td>\n",
       "      <td>44.000000</td>\n",
       "      <td>9.000000</td>\n",
       "    </tr>\n",
       "  </tbody>\n",
       "</table>\n",
       "</div>"
      ],
      "text/plain": [
       "       num_characters   num_words  num_sentences\n",
       "count      653.000000  653.000000     653.000000\n",
       "mean       137.891271   27.474732       2.969372\n",
       "std         30.137753    6.893007       1.488910\n",
       "min         13.000000    2.000000       1.000000\n",
       "25%        132.000000   25.000000       2.000000\n",
       "50%        149.000000   29.000000       3.000000\n",
       "75%        157.000000   32.000000       4.000000\n",
       "max        224.000000   44.000000       9.000000"
      ]
     },
     "execution_count": 26,
     "metadata": {},
     "output_type": "execute_result"
    }
   ],
   "source": [
    "#spam\n",
    "df[df['target'] == 1][['num_characters','num_words','num_sentences']].describe()"
   ]
  },
  {
   "cell_type": "code",
   "execution_count": 27,
   "metadata": {
    "execution": {
     "iopub.execute_input": "2022-04-28T03:25:51.414784Z",
     "iopub.status.busy": "2022-04-28T03:25:51.414382Z",
     "iopub.status.idle": "2022-04-28T03:25:51.418716Z",
     "shell.execute_reply": "2022-04-28T03:25:51.418171Z",
     "shell.execute_reply.started": "2022-04-28T03:25:51.414741Z"
    }
   },
   "outputs": [],
   "source": [
    "import seaborn as sns"
   ]
  },
  {
   "cell_type": "markdown",
   "metadata": {},
   "source": [
    "### Distribution of spam and ham characters and words"
   ]
  },
  {
   "cell_type": "code",
   "execution_count": 28,
   "metadata": {
    "execution": {
     "iopub.execute_input": "2022-04-28T03:25:51.420071Z",
     "iopub.status.busy": "2022-04-28T03:25:51.419716Z",
     "iopub.status.idle": "2022-04-28T03:25:51.940069Z",
     "shell.execute_reply": "2022-04-28T03:25:51.939207Z",
     "shell.execute_reply.started": "2022-04-28T03:25:51.420033Z"
    }
   },
   "outputs": [
    {
     "data": {
      "image/png": "[encoded data removed]",
      "text/plain": [
       "<Figure size 864x432 with 1 Axes>"
      ]
     },
     "metadata": {
      "needs_background": "light"
     },
     "output_type": "display_data"
    }
   ],
   "source": [
    "##distribution of spam and ham characters\n",
    "\n",
    "plt.figure(figsize=(12,6))\n",
    "sns.histplot(df[df['target'] == 0]['num_characters'], color = 'bisque')\n",
    "sns.histplot(df[df['target'] == 1]['num_characters'],color='red')\n",
    "plt.show()"
   ]
  },
  {
   "cell_type": "code",
   "execution_count": 29,
   "metadata": {
    "execution": {
     "iopub.execute_input": "2022-04-28T03:25:51.941638Z",
     "iopub.status.busy": "2022-04-28T03:25:51.941320Z",
     "iopub.status.idle": "2022-04-28T03:25:52.322085Z",
     "shell.execute_reply": "2022-04-28T03:25:52.321190Z",
     "shell.execute_reply.started": "2022-04-28T03:25:51.941606Z"
    }
   },
   "outputs": [
    {
     "data": {
      "image/png": "[encoded data removed]",
      "text/plain": [
       "<Figure size 864x432 with 1 Axes>"
      ]
     },
     "metadata": {
      "needs_background": "light"
     },
     "output_type": "display_data"
    }
   ],
   "source": [
    "#distribution of spam and ham words\n",
    "\n",
    "plt.figure(figsize=(12,6))\n",
    "sns.histplot(df[df['target'] == 0]['num_words'],color='bisque')\n",
    "sns.histplot(df[df['target'] == 1]['num_words'],color='red')\n",
    "plt.show()"
   ]
  },
  {
   "cell_type": "markdown",
   "metadata": {},
   "source": [
    "#### Clearly we have more ham words and characters than spam"
   ]
  },
  {
   "cell_type": "markdown",
   "metadata": {},
   "source": [
    "<a id=\"3.3\"></a>\n",
    "# <p style=\"background-color:turquoise;font-family:newtimeroman;font-size:120%;color:white;text-align:center;border-radius:20px 60px;\">Outlier Detection</p>"
   ]
  },
  {
   "cell_type": "code",
   "execution_count": 30,
   "metadata": {
    "execution": {
     "iopub.execute_input": "2022-04-28T03:25:52.324072Z",
     "iopub.status.busy": "2022-04-28T03:25:52.323650Z",
     "iopub.status.idle": "2022-04-28T03:25:55.937852Z",
     "shell.execute_reply": "2022-04-28T03:25:55.937050Z",
     "shell.execute_reply.started": "2022-04-28T03:25:52.324029Z"
    }
   },
   "outputs": [
    {
     "data": {
      "text/plain": [
       "<Figure size 864x432 with 0 Axes>"
      ]
     },
     "metadata": {},
     "output_type": "display_data"
    },
    {
     "data": {
      "image/png": "[encoded data removed]",
      "text/plain": [
       "<Figure size 582.375x540 with 12 Axes>"
      ]
     },
     "metadata": {
      "needs_background": "light"
     },
     "output_type": "display_data"
    }
   ],
   "source": [
    "#pairplot\n",
    "plt.figure(figsize=(14,6))\n",
    "cols= ['turquoise','#ff8975'] \n",
    "sns.pairplot(df,hue='target',palette=cols)\n",
    "plt.show()"
   ]
  },
  {
   "cell_type": "markdown",
   "metadata": {},
   "source": [
    "### Observations\n",
    "\n",
    "Clear presence of outliers in our data. Also since each of those attributes specify length of a given text, they are likely to be correlated as well.\n",
    "\n",
    "hence we can **treat our outliers and drop beyond a certain limit.**"
   ]
  },
  {
   "cell_type": "code",
   "execution_count": 31,
   "metadata": {
    "execution": {
     "iopub.execute_input": "2022-04-28T03:25:55.939329Z",
     "iopub.status.busy": "2022-04-28T03:25:55.938790Z",
     "iopub.status.idle": "2022-04-28T03:25:56.149637Z",
     "shell.execute_reply": "2022-04-28T03:25:56.148732Z",
     "shell.execute_reply.started": "2022-04-28T03:25:55.939296Z"
    }
   },
   "outputs": [
    {
     "data": {
      "image/png": "[encoded data removed]",
      "text/plain": [
       "<Figure size 720x432 with 2 Axes>"
      ]
     },
     "metadata": {
      "needs_background": "light"
     },
     "output_type": "display_data"
    }
   ],
   "source": [
    "plt.figure(figsize=(10,6))\n",
    "sns.heatmap(df.corr(),annot=True)\n",
    "plt.show()"
   ]
  },
  {
   "cell_type": "markdown",
   "metadata": {},
   "source": [
    "**Extreme correlation** between num_words and num_characters. Same goes for num_words and num_sentences\n",
    "\n",
    "#### So we need to consider just one of these three - preferrably num_characters for our model!"
   ]
  },
  {
   "cell_type": "markdown",
   "metadata": {},
   "source": [
    "<a id=\"4\"></a>\n",
    "# <p style=\"background-color:mediumturquoise;font-family:newtimeroman;font-size:150%;color:white;text-align:center;border-radius:20px 60px;\">Data Preprocessing</p>\n",
    "\n",
    "    The data or text cleaning process NLP is mandatory before modelling. As computers dont understand the texts/English language unlike humans. We need to convert them a fomat which can be understood by machines\n"
   ]
  },
  {
   "cell_type": "markdown",
   "metadata": {},
   "source": [
    "\n",
    "\n",
    "![](https://raw.githubusercontent.com/anushka-DS/My_Projects/master/Sms-Spam-Classifier%20(NLP)/spam-ham%20text%20preprocess.png)\n",
    "\n"
   ]
  },
  {
   "cell_type": "markdown",
   "metadata": {},
   "source": [
    "**Stopwords** are frequently occurring words(such as few, is, an, etc). These words hold meaning in sentence structure, but do not contribute much to language processing in NLP. For the purpose of removing redundancy in our processing, I am removing those. NLTK library has a set of default stopwords that we will be removing\n",
    "\n",
    "**Tokenization** is breaking the raw text into small chunks. It breaks the raw text into words, sentences called tokens. These tokens help in understanding the context or developing the model for the NLP. This helps in interpreting the meaning of the text by analyzing the sequence of the words."
   ]
  },
  {
   "cell_type": "markdown",
   "metadata": {},
   "source": [
    "<a id=\"4.1\"></a>\n",
    "# <p style=\"background-color:turquoise;font-family:newtimeroman;font-size:120%;color:white;text-align:center;border-radius:20px 60px;\">Text Preprocessing Steps</p>"
   ]
  },
  {
   "cell_type": "markdown",
   "metadata": {},
   "source": [
    "### Add all text preprocessing steps into a function :\n",
    "\n",
    "    "
   ]
  },
  {
   "cell_type": "code",
   "execution_count": 32,
   "metadata": {
    "execution": {
     "iopub.execute_input": "2022-04-28T03:25:56.152400Z",
     "iopub.status.busy": "2022-04-28T03:25:56.152150Z",
     "iopub.status.idle": "2022-04-28T03:25:56.159027Z",
     "shell.execute_reply": "2022-04-28T03:25:56.158376Z",
     "shell.execute_reply.started": "2022-04-28T03:25:56.152372Z"
    }
   },
   "outputs": [],
   "source": [
    "#lowercase, tokenization, special chars/punctualtion and stopwords removal\n",
    "\n",
    "from nltk.corpus import stopwords\n",
    "from nltk.stem.porter import PorterStemmer\n",
    "ps = PorterStemmer()\n",
    "import string\n",
    "\n",
    "def transform_text(text):\n",
    "    text = text.lower()\n",
    "    text = nltk.word_tokenize(text)\n",
    "    \n",
    "    #retaining only numbers and alphabets\n",
    "    y = []\n",
    "    for i in text:\n",
    "        if i.isalnum():\n",
    "            y.append(i)\n",
    "    \n",
    "    #clone copy of list y\n",
    "    text = y[:]\n",
    "    y.clear()\n",
    "    \n",
    "    #stopwords removal\n",
    "    for i in text:\n",
    "        if i not in stopwords.words('english') and i not in string.punctuation:\n",
    "            y.append(i)\n",
    "            \n",
    "    text = y[:]\n",
    "    y.clear()\n",
    "    \n",
    "    #stemming\n",
    "    for i in text:\n",
    "        y.append(ps.stem(i))\n",
    "    \n",
    "            \n",
    "    return \" \".join(y)"
   ]
  },
  {
   "cell_type": "markdown",
   "metadata": {},
   "source": [
    "#### Now we have successfully performed the above stpes and our data is ready "
   ]
  },
  {
   "cell_type": "code",
   "execution_count": 33,
   "metadata": {
    "execution": {
     "iopub.execute_input": "2022-04-28T03:25:56.160249Z",
     "iopub.status.busy": "2022-04-28T03:25:56.159919Z",
     "iopub.status.idle": "2022-04-28T03:25:56.189621Z",
     "shell.execute_reply": "2022-04-28T03:25:56.188992Z",
     "shell.execute_reply.started": "2022-04-28T03:25:56.160222Z"
    }
   },
   "outputs": [
    {
     "data": {
      "text/plain": [
       "'gon na home soon want talk stuff anymor tonight k cri enough today'"
      ]
     },
     "execution_count": 33,
     "metadata": {},
     "output_type": "execute_result"
    }
   ],
   "source": [
    "transform_text(\"I'm gonna be home soon and i don't want to talk about this stuff anymore tonight, k? I've cried enough today.\")"
   ]
  },
  {
   "cell_type": "code",
   "execution_count": 34,
   "metadata": {
    "execution": {
     "iopub.execute_input": "2022-04-28T03:25:56.191614Z",
     "iopub.status.busy": "2022-04-28T03:25:56.191093Z",
     "iopub.status.idle": "2022-04-28T03:25:56.197488Z",
     "shell.execute_reply": "2022-04-28T03:25:56.196673Z",
     "shell.execute_reply.started": "2022-04-28T03:25:56.191571Z"
    }
   },
   "outputs": [
    {
     "data": {
      "text/plain": [
       "\"I'm gonna be home soon and i don't want to talk about this stuff anymore tonight, k? I've cried enough today.\""
      ]
     },
     "execution_count": 34,
     "metadata": {},
     "output_type": "execute_result"
    }
   ],
   "source": [
    "df['text'][10]"
   ]
  },
  {
   "cell_type": "markdown",
   "metadata": {},
   "source": [
    "### Why did we choose stemming and not lemmatisation ?\n",
    "\n",
    " > **Stemming** is the process of getting the root form of a word. Stem or root is the part to which inflectional affixes are added. The stem of a word is created by removing the prefix or suffix of a word. It goes back to the etymology of the word. Languages evolve over time. Many different languages branch into each other; for example, English is a derivative of Latin. Thus, stemming a word takes it back to the root word.\n",
    "\n",
    " >**Lemmatization** also converts a word to its root form. However, the difference is that lemmatization ensures that the root word belongs to the language one is dealing with, in our case it is English. If we use lemmatization the output would be in English.\n",
    " \n",
    "     Stemming is computationally much faster than Lemmatization, however performance and understanding is better for Lemmatization. We choose Stemming here and will see how the models perform."
   ]
  },
  {
   "cell_type": "code",
   "execution_count": 35,
   "metadata": {
    "execution": {
     "iopub.execute_input": "2022-04-28T03:25:56.199395Z",
     "iopub.status.busy": "2022-04-28T03:25:56.198913Z",
     "iopub.status.idle": "2022-04-28T03:25:56.210821Z",
     "shell.execute_reply": "2022-04-28T03:25:56.210292Z",
     "shell.execute_reply.started": "2022-04-28T03:25:56.199353Z"
    }
   },
   "outputs": [
    {
     "data": {
      "text/plain": [
       "'love'"
      ]
     },
     "execution_count": 35,
     "metadata": {},
     "output_type": "execute_result"
    }
   ],
   "source": [
    "#sample stemming result\n",
    "from nltk.stem.porter import PorterStemmer\n",
    "ps = PorterStemmer()\n",
    "ps.stem('loving')"
   ]
  },
  {
   "cell_type": "code",
   "execution_count": 36,
   "metadata": {
    "execution": {
     "iopub.execute_input": "2022-04-28T03:25:56.212219Z",
     "iopub.status.busy": "2022-04-28T03:25:56.211877Z",
     "iopub.status.idle": "2022-04-28T03:26:07.366759Z",
     "shell.execute_reply": "2022-04-28T03:26:07.366123Z",
     "shell.execute_reply.started": "2022-04-28T03:25:56.212180Z"
    }
   },
   "outputs": [],
   "source": [
    "df['transformed_text'] = df['text'].apply(transform_text)"
   ]
  },
  {
   "cell_type": "code",
   "execution_count": 37,
   "metadata": {
    "execution": {
     "iopub.execute_input": "2022-04-28T03:26:07.368272Z",
     "iopub.status.busy": "2022-04-28T03:26:07.367871Z",
     "iopub.status.idle": "2022-04-28T03:26:07.378765Z",
     "shell.execute_reply": "2022-04-28T03:26:07.377910Z",
     "shell.execute_reply.started": "2022-04-28T03:26:07.368231Z"
    }
   },
   "outputs": [
    {
     "data": {
      "text/html": [
       "<div>\n",
       "<style scoped>\n",
       "    .dataframe tbody tr th:only-of-type {\n",
       "        vertical-align: middle;\n",
       "    }\n",
       "\n",
       "    .dataframe tbody tr th {\n",
       "        vertical-align: top;\n",
       "    }\n",
       "\n",
       "    .dataframe thead th {\n",
       "        text-align: right;\n",
       "    }\n",
       "</style>\n",
       "<table border=\"1\" class=\"dataframe\">\n",
       "  <thead>\n",
       "    <tr style=\"text-align: right;\">\n",
       "      <th></th>\n",
       "      <th>target</th>\n",
       "      <th>text</th>\n",
       "      <th>num_characters</th>\n",
       "      <th>num_words</th>\n",
       "      <th>num_sentences</th>\n",
       "      <th>transformed_text</th>\n",
       "    </tr>\n",
       "  </thead>\n",
       "  <tbody>\n",
       "    <tr>\n",
       "      <th>0</th>\n",
       "      <td>0</td>\n",
       "      <td>Go until jurong point, crazy.. Available only ...</td>\n",
       "      <td>111</td>\n",
       "      <td>23</td>\n",
       "      <td>2</td>\n",
       "      <td>go jurong point avail bugi n great world la e ...</td>\n",
       "    </tr>\n",
       "    <tr>\n",
       "      <th>1</th>\n",
       "      <td>0</td>\n",
       "      <td>Ok lar... Joking wif u oni...</td>\n",
       "      <td>29</td>\n",
       "      <td>8</td>\n",
       "      <td>2</td>\n",
       "      <td>ok lar joke wif u oni</td>\n",
       "    </tr>\n",
       "    <tr>\n",
       "      <th>2</th>\n",
       "      <td>1</td>\n",
       "      <td>Free entry in 2 a wkly comp to win FA Cup fina...</td>\n",
       "      <td>155</td>\n",
       "      <td>37</td>\n",
       "      <td>2</td>\n",
       "      <td>free entri 2 wkli comp win fa cup final tkt 21...</td>\n",
       "    </tr>\n",
       "    <tr>\n",
       "      <th>3</th>\n",
       "      <td>0</td>\n",
       "      <td>U dun say so early hor... U c already then say...</td>\n",
       "      <td>49</td>\n",
       "      <td>13</td>\n",
       "      <td>1</td>\n",
       "      <td>u dun say earli hor u c alreadi say</td>\n",
       "    </tr>\n",
       "    <tr>\n",
       "      <th>4</th>\n",
       "      <td>0</td>\n",
       "      <td>Nah I don't think he goes to usf, he lives aro...</td>\n",
       "      <td>61</td>\n",
       "      <td>15</td>\n",
       "      <td>1</td>\n",
       "      <td>nah think goe usf live around though</td>\n",
       "    </tr>\n",
       "  </tbody>\n",
       "</table>\n",
       "</div>"
      ],
      "text/plain": [
       "   target                                               text  num_characters  \\\n",
       "0       0  Go until jurong point, crazy.. Available only ...             111   \n",
       "1       0                      Ok lar... Joking wif u oni...              29   \n",
       "2       1  Free entry in 2 a wkly comp to win FA Cup fina...             155   \n",
       "3       0  U dun say so early hor... U c already then say...              49   \n",
       "4       0  Nah I don't think he goes to usf, he lives aro...              61   \n",
       "\n",
       "   num_words  num_sentences                                   transformed_text  \n",
       "0         23              2  go jurong point avail bugi n great world la e ...  \n",
       "1          8              2                              ok lar joke wif u oni  \n",
       "2         37              2  free entri 2 wkli comp win fa cup final tkt 21...  \n",
       "3         13              1                u dun say earli hor u c alreadi say  \n",
       "4         15              1               nah think goe usf live around though  "
      ]
     },
     "execution_count": 37,
     "metadata": {},
     "output_type": "execute_result"
    }
   ],
   "source": [
    "df.head()"
   ]
  },
  {
   "cell_type": "markdown",
   "metadata": {},
   "source": [
    "## View Frequent words in our data post text preprocessing\n",
    "\n",
    "    "
   ]
  },
  {
   "cell_type": "code",
   "execution_count": 38,
   "metadata": {
    "execution": {
     "iopub.execute_input": "2022-04-28T03:26:07.380560Z",
     "iopub.status.busy": "2022-04-28T03:26:07.380075Z",
     "iopub.status.idle": "2022-04-28T03:26:07.419527Z",
     "shell.execute_reply": "2022-04-28T03:26:07.418882Z",
     "shell.execute_reply.started": "2022-04-28T03:26:07.380518Z"
    }
   },
   "outputs": [],
   "source": [
    "from wordcloud import WordCloud\n",
    "wc = WordCloud(width=500,height=500,min_font_size=10,background_color='white')"
   ]
  },
  {
   "cell_type": "code",
   "execution_count": 39,
   "metadata": {
    "execution": {
     "iopub.execute_input": "2022-04-28T03:26:07.421300Z",
     "iopub.status.busy": "2022-04-28T03:26:07.420842Z",
     "iopub.status.idle": "2022-04-28T03:26:07.763789Z",
     "shell.execute_reply": "2022-04-28T03:26:07.762925Z",
     "shell.execute_reply.started": "2022-04-28T03:26:07.421251Z"
    }
   },
   "outputs": [],
   "source": [
    "spam_wc = wc.generate(df[df['target'] == 1]['transformed_text'].str.cat(sep=\" \"))"
   ]
  },
  {
   "cell_type": "code",
   "execution_count": 40,
   "metadata": {
    "execution": {
     "iopub.execute_input": "2022-04-28T03:26:07.765107Z",
     "iopub.status.busy": "2022-04-28T03:26:07.764903Z",
     "iopub.status.idle": "2022-04-28T03:26:08.041412Z",
     "shell.execute_reply": "2022-04-28T03:26:08.040586Z",
     "shell.execute_reply.started": "2022-04-28T03:26:07.765082Z"
    }
   },
   "outputs": [
    {
     "data": {
      "image/png": "[encoded data removed]",
      "text/plain": [
       "<Figure size 1440x576 with 1 Axes>"
      ]
     },
     "metadata": {
      "needs_background": "light"
     },
     "output_type": "display_data"
    }
   ],
   "source": [
    "plt.figure(figsize=(20,8))\n",
    "plt.imshow(spam_wc)\n",
    "plt.show()"
   ]
  },
  {
   "cell_type": "markdown",
   "metadata": {
    "execution": {
     "iopub.execute_input": "2022-04-28T03:26:08.043576Z",
     "iopub.status.busy": "2022-04-28T03:26:08.043028Z",
     "iopub.status.idle": "2022-04-28T03:26:08.047692Z",
     "shell.execute_reply": "2022-04-28T03:26:08.046754Z",
     "shell.execute_reply.started": "2022-04-28T03:26:08.043530Z"
    }
   },
   "source": [
    "#### Stopwords in Ham messages"
   ]
  },
  {
   "cell_type": "code",
   "execution_count": 42,
   "metadata": {
    "execution": {
     "iopub.execute_input": "2022-04-28T03:26:08.050264Z",
     "iopub.status.busy": "2022-04-28T03:26:08.049480Z",
     "iopub.status.idle": "2022-04-28T03:26:08.640128Z",
     "shell.execute_reply": "2022-04-28T03:26:08.639467Z",
     "shell.execute_reply.started": "2022-04-28T03:26:08.050221Z"
    }
   },
   "outputs": [],
   "source": [
    "ham_wc = wc.generate(df[df['target'] == 0]['transformed_text'].str.cat(sep=\" \"))"
   ]
  },
  {
   "cell_type": "code",
   "execution_count": 43,
   "metadata": {
    "execution": {
     "iopub.execute_input": "2022-04-28T03:26:08.641582Z",
     "iopub.status.busy": "2022-04-28T03:26:08.641332Z",
     "iopub.status.idle": "2022-04-28T03:26:08.915483Z",
     "shell.execute_reply": "2022-04-28T03:26:08.914607Z",
     "shell.execute_reply.started": "2022-04-28T03:26:08.641553Z"
    }
   },
   "outputs": [
    {
     "data": {
      "image/png": "[encoded data removed]",
      "text/plain": [
       "<Figure size 1440x576 with 1 Axes>"
      ]
     },
     "metadata": {
      "needs_background": "light"
     },
     "output_type": "display_data"
    }
   ],
   "source": [
    "plt.figure(figsize=(20,8))\n",
    "plt.imshow(ham_wc)\n",
    "plt.show()"
   ]
  },
  {
   "cell_type": "code",
   "execution_count": 44,
   "metadata": {
    "execution": {
     "iopub.execute_input": "2022-04-28T03:26:08.917361Z",
     "iopub.status.busy": "2022-04-28T03:26:08.917059Z",
     "iopub.status.idle": "2022-04-28T03:26:08.927933Z",
     "shell.execute_reply": "2022-04-28T03:26:08.927381Z",
     "shell.execute_reply.started": "2022-04-28T03:26:08.917320Z"
    }
   },
   "outputs": [
    {
     "data": {
      "text/html": [
       "<div>\n",
       "<style scoped>\n",
       "    .dataframe tbody tr th:only-of-type {\n",
       "        vertical-align: middle;\n",
       "    }\n",
       "\n",
       "    .dataframe tbody tr th {\n",
       "        vertical-align: top;\n",
       "    }\n",
       "\n",
       "    .dataframe thead th {\n",
       "        text-align: right;\n",
       "    }\n",
       "</style>\n",
       "<table border=\"1\" class=\"dataframe\">\n",
       "  <thead>\n",
       "    <tr style=\"text-align: right;\">\n",
       "      <th></th>\n",
       "      <th>target</th>\n",
       "      <th>text</th>\n",
       "      <th>num_characters</th>\n",
       "      <th>num_words</th>\n",
       "      <th>num_sentences</th>\n",
       "      <th>transformed_text</th>\n",
       "    </tr>\n",
       "  </thead>\n",
       "  <tbody>\n",
       "    <tr>\n",
       "      <th>0</th>\n",
       "      <td>0</td>\n",
       "      <td>Go until jurong point, crazy.. Available only ...</td>\n",
       "      <td>111</td>\n",
       "      <td>23</td>\n",
       "      <td>2</td>\n",
       "      <td>go jurong point avail bugi n great world la e ...</td>\n",
       "    </tr>\n",
       "    <tr>\n",
       "      <th>1</th>\n",
       "      <td>0</td>\n",
       "      <td>Ok lar... Joking wif u oni...</td>\n",
       "      <td>29</td>\n",
       "      <td>8</td>\n",
       "      <td>2</td>\n",
       "      <td>ok lar joke wif u oni</td>\n",
       "    </tr>\n",
       "    <tr>\n",
       "      <th>2</th>\n",
       "      <td>1</td>\n",
       "      <td>Free entry in 2 a wkly comp to win FA Cup fina...</td>\n",
       "      <td>155</td>\n",
       "      <td>37</td>\n",
       "      <td>2</td>\n",
       "      <td>free entri 2 wkli comp win fa cup final tkt 21...</td>\n",
       "    </tr>\n",
       "    <tr>\n",
       "      <th>3</th>\n",
       "      <td>0</td>\n",
       "      <td>U dun say so early hor... U c already then say...</td>\n",
       "      <td>49</td>\n",
       "      <td>13</td>\n",
       "      <td>1</td>\n",
       "      <td>u dun say earli hor u c alreadi say</td>\n",
       "    </tr>\n",
       "    <tr>\n",
       "      <th>4</th>\n",
       "      <td>0</td>\n",
       "      <td>Nah I don't think he goes to usf, he lives aro...</td>\n",
       "      <td>61</td>\n",
       "      <td>15</td>\n",
       "      <td>1</td>\n",
       "      <td>nah think goe usf live around though</td>\n",
       "    </tr>\n",
       "  </tbody>\n",
       "</table>\n",
       "</div>"
      ],
      "text/plain": [
       "   target                                               text  num_characters  \\\n",
       "0       0  Go until jurong point, crazy.. Available only ...             111   \n",
       "1       0                      Ok lar... Joking wif u oni...              29   \n",
       "2       1  Free entry in 2 a wkly comp to win FA Cup fina...             155   \n",
       "3       0  U dun say so early hor... U c already then say...              49   \n",
       "4       0  Nah I don't think he goes to usf, he lives aro...              61   \n",
       "\n",
       "   num_words  num_sentences                                   transformed_text  \n",
       "0         23              2  go jurong point avail bugi n great world la e ...  \n",
       "1          8              2                              ok lar joke wif u oni  \n",
       "2         37              2  free entri 2 wkli comp win fa cup final tkt 21...  \n",
       "3         13              1                u dun say earli hor u c alreadi say  \n",
       "4         15              1               nah think goe usf live around though  "
      ]
     },
     "execution_count": 44,
     "metadata": {},
     "output_type": "execute_result"
    }
   ],
   "source": [
    "df.head()"
   ]
  },
  {
   "cell_type": "code",
   "execution_count": 45,
   "metadata": {
    "execution": {
     "iopub.execute_input": "2022-04-28T03:26:08.929285Z",
     "iopub.status.busy": "2022-04-28T03:26:08.928779Z",
     "iopub.status.idle": "2022-04-28T03:26:08.943805Z",
     "shell.execute_reply": "2022-04-28T03:26:08.942877Z",
     "shell.execute_reply.started": "2022-04-28T03:26:08.929251Z"
    }
   },
   "outputs": [],
   "source": [
    "spam_corpus = []\n",
    "for msg in df[df['target'] == 1]['transformed_text'].tolist():\n",
    "    for word in msg.split():\n",
    "        spam_corpus.append(word)\n",
    "        "
   ]
  },
  {
   "cell_type": "code",
   "execution_count": 46,
   "metadata": {
    "execution": {
     "iopub.execute_input": "2022-04-28T03:26:08.945352Z",
     "iopub.status.busy": "2022-04-28T03:26:08.944861Z",
     "iopub.status.idle": "2022-04-28T03:26:08.952768Z",
     "shell.execute_reply": "2022-04-28T03:26:08.952034Z",
     "shell.execute_reply.started": "2022-04-28T03:26:08.945324Z"
    }
   },
   "outputs": [
    {
     "data": {
      "text/plain": [
       "9883"
      ]
     },
     "execution_count": 46,
     "metadata": {},
     "output_type": "execute_result"
    }
   ],
   "source": [
    "len(spam_corpus)"
   ]
  },
  {
   "cell_type": "markdown",
   "metadata": {},
   "source": [
    "#### So we have a total of around 10k words in our spam corpus. \n",
    "\n",
    "### Let's view the number top 30 most occurring words in Spam and Ham corpus"
   ]
  },
  {
   "cell_type": "code",
   "execution_count": 47,
   "metadata": {
    "execution": {
     "iopub.execute_input": "2022-04-28T03:26:08.954628Z",
     "iopub.status.busy": "2022-04-28T03:26:08.954241Z",
     "iopub.status.idle": "2022-04-28T03:26:09.413346Z",
     "shell.execute_reply": "2022-04-28T03:26:09.412447Z",
     "shell.execute_reply.started": "2022-04-28T03:26:08.954588Z"
    }
   },
   "outputs": [
    {
     "data": {
      "image/png": "[encoded data removed]",
      "text/plain": [
       "<Figure size 1440x432 with 1 Axes>"
      ]
     },
     "metadata": {
      "needs_background": "light"
     },
     "output_type": "display_data"
    }
   ],
   "source": [
    "warnings.filterwarnings('ignore')\n",
    "\n",
    "#using counter to keep a count of each word in corpus\n",
    "from collections import Counter\n",
    "plt.figure(figsize=(20,6))\n",
    "sns.barplot(pd.DataFrame(Counter(spam_corpus).most_common(30))[0],pd.DataFrame(Counter(spam_corpus).most_common(30))[1])\n",
    "plt.xticks(rotation='vertical')\n",
    "plt.show()"
   ]
  },
  {
   "cell_type": "markdown",
   "metadata": {
    "execution": {
     "iopub.execute_input": "2022-04-28T03:26:09.414938Z",
     "iopub.status.busy": "2022-04-28T03:26:09.414642Z",
     "iopub.status.idle": "2022-04-28T03:26:09.418804Z",
     "shell.execute_reply": "2022-04-28T03:26:09.417950Z",
     "shell.execute_reply.started": "2022-04-28T03:26:09.414899Z"
    }
   },
   "source": [
    "### Top 30 words in Ham corpus"
   ]
  },
  {
   "cell_type": "code",
   "execution_count": 49,
   "metadata": {
    "execution": {
     "iopub.execute_input": "2022-04-28T03:26:09.420050Z",
     "iopub.status.busy": "2022-04-28T03:26:09.419751Z",
     "iopub.status.idle": "2022-04-28T03:26:09.437556Z",
     "shell.execute_reply": "2022-04-28T03:26:09.436725Z",
     "shell.execute_reply.started": "2022-04-28T03:26:09.420025Z"
    }
   },
   "outputs": [],
   "source": [
    "ham_corpus = []\n",
    "for msg in df[df['target'] == 0]['transformed_text'].tolist():\n",
    "    for word in msg.split():\n",
    "        ham_corpus.append(word)"
   ]
  },
  {
   "cell_type": "code",
   "execution_count": 50,
   "metadata": {
    "execution": {
     "iopub.execute_input": "2022-04-28T03:26:09.441847Z",
     "iopub.status.busy": "2022-04-28T03:26:09.441505Z",
     "iopub.status.idle": "2022-04-28T03:26:09.446071Z",
     "shell.execute_reply": "2022-04-28T03:26:09.445404Z",
     "shell.execute_reply.started": "2022-04-28T03:26:09.441813Z"
    }
   },
   "outputs": [
    {
     "data": {
      "text/plain": [
       "34771"
      ]
     },
     "execution_count": 50,
     "metadata": {},
     "output_type": "execute_result"
    }
   ],
   "source": [
    "len(ham_corpus)"
   ]
  },
  {
   "cell_type": "code",
   "execution_count": 51,
   "metadata": {
    "execution": {
     "iopub.execute_input": "2022-04-28T03:26:09.447584Z",
     "iopub.status.busy": "2022-04-28T03:26:09.447082Z",
     "iopub.status.idle": "2022-04-28T03:26:09.745943Z",
     "shell.execute_reply": "2022-04-28T03:26:09.745209Z",
     "shell.execute_reply.started": "2022-04-28T03:26:09.447555Z"
    }
   },
   "outputs": [
    {
     "data": {
      "image/png": "[encoded data removed]",
      "text/plain": [
       "<Figure size 1440x432 with 1 Axes>"
      ]
     },
     "metadata": {
      "needs_background": "light"
     },
     "output_type": "display_data"
    }
   ],
   "source": [
    "from collections import Counter\n",
    "plt.figure(figsize=(20,6))\n",
    "sns.barplot(pd.DataFrame(Counter(ham_corpus).most_common(30))[0],pd.DataFrame(Counter(ham_corpus).most_common(30))[1])\n",
    "plt.xticks(rotation='vertical')\n",
    "plt.show()"
   ]
  },
  {
   "cell_type": "markdown",
   "metadata": {},
   "source": [
    "<a id=\"5\"></a>\n",
    "# <p style=\"background-color:mediumturquoise;font-family:newtimeroman;font-size:150%;color:white;text-align:center;border-radius:20px 60px;\">Vectorization</p>\n",
    "\n",
    "#### BEFORE WE PROCEED WE NEED TO VECTORIZE OUR DATA  - i.e convert text to vectors\n",
    "\n",
    "    So we need to covert our text to vectors for machine to understand. We made use of both BOW and TFIDF and found that TFIDF  performs better.\n",
    "    \n",
    "#### TFIDF stands for Term Frequency— Inverse Document Frequency, takes into account the importance of each term to document. It vectorizes documents by calculating a TF-IDF statistic between the document and each term in the vocabulary. The document vector is constructed by using each statistic as an element in the vector.\n",
    "    \n",
    "    Typically, the tf-idf weight is composed by two terms: the first computes the normalized Term Frequency (TF), aka. the number of times a word appears in a document, divided by the total number of words in that document; the second term is the Inverse Document Frequency (IDF), computed as the logarithm of the number of the documents in the corpus divided by the number of documents where the specific term appears.\n",
    "\n",
    "**TF: Term Frequency**, which measures how frequently a term occurs in a document. Since every document is different in length, it is possible that a term would appear much more times in long documents than shorter ones. Thus, the term frequency is often divided by the document length (aka. the total number of terms in the document) as a way of normalization:\n",
    "\n",
    "#### TF(t) = (Number of times term t appears in a document) / (Total number of terms in the document).\n",
    "\n",
    "**IDF: Inverse Document Frequency**, which measures how important a term is. While computing TF, all terms are considered equally important. However it is known that certain terms, such as \"is\", \"of\", and \"that\", may appear a lot of times but have little importance. Thus we need to weigh down the frequent terms while scale up the rare ones, by computing the following:\n",
    "\n",
    "#### IDF(t) = log_e(Total number of documents / Number of documents with term t in it).\n",
    "\n"
   ]
  },
  {
   "cell_type": "code",
   "execution_count": 52,
   "metadata": {
    "execution": {
     "iopub.execute_input": "2022-04-28T03:26:09.747752Z",
     "iopub.status.busy": "2022-04-28T03:26:09.747301Z",
     "iopub.status.idle": "2022-04-28T03:26:09.752629Z",
     "shell.execute_reply": "2022-04-28T03:26:09.751705Z",
     "shell.execute_reply.started": "2022-04-28T03:26:09.747707Z"
    }
   },
   "outputs": [],
   "source": [
    "from sklearn.feature_extraction.text import CountVectorizer,TfidfVectorizer\n",
    "cv = CountVectorizer()\n",
    "\n",
    "##tfidf = TfidfVectorizer\n",
    "\n",
    "#Setting max_features t0 3000 here after tring multiple random values this ones shows best results\n",
    "tfidf = TfidfVectorizer(max_features=3000)"
   ]
  },
  {
   "cell_type": "code",
   "execution_count": 53,
   "metadata": {
    "execution": {
     "iopub.execute_input": "2022-04-28T03:26:09.754325Z",
     "iopub.status.busy": "2022-04-28T03:26:09.754012Z",
     "iopub.status.idle": "2022-04-28T03:26:09.940805Z",
     "shell.execute_reply": "2022-04-28T03:26:09.939976Z",
     "shell.execute_reply.started": "2022-04-28T03:26:09.754276Z"
    }
   },
   "outputs": [],
   "source": [
    "X = tfidf.fit_transform(df['transformed_text']).toarray()"
   ]
  },
  {
   "cell_type": "code",
   "execution_count": 54,
   "metadata": {
    "execution": {
     "iopub.execute_input": "2022-04-28T03:26:09.942701Z",
     "iopub.status.busy": "2022-04-28T03:26:09.942131Z",
     "iopub.status.idle": "2022-04-28T03:26:09.953689Z",
     "shell.execute_reply": "2022-04-28T03:26:09.952763Z",
     "shell.execute_reply.started": "2022-04-28T03:26:09.942650Z"
    }
   },
   "outputs": [
    {
     "data": {
      "text/html": [
       "<div>\n",
       "<style scoped>\n",
       "    .dataframe tbody tr th:only-of-type {\n",
       "        vertical-align: middle;\n",
       "    }\n",
       "\n",
       "    .dataframe tbody tr th {\n",
       "        vertical-align: top;\n",
       "    }\n",
       "\n",
       "    .dataframe thead th {\n",
       "        text-align: right;\n",
       "    }\n",
       "</style>\n",
       "<table border=\"1\" class=\"dataframe\">\n",
       "  <thead>\n",
       "    <tr style=\"text-align: right;\">\n",
       "      <th></th>\n",
       "      <th>target</th>\n",
       "      <th>text</th>\n",
       "      <th>num_characters</th>\n",
       "      <th>num_words</th>\n",
       "      <th>num_sentences</th>\n",
       "      <th>transformed_text</th>\n",
       "    </tr>\n",
       "  </thead>\n",
       "  <tbody>\n",
       "    <tr>\n",
       "      <th>0</th>\n",
       "      <td>0</td>\n",
       "      <td>Go until jurong point, crazy.. Available only ...</td>\n",
       "      <td>111</td>\n",
       "      <td>23</td>\n",
       "      <td>2</td>\n",
       "      <td>go jurong point avail bugi n great world la e ...</td>\n",
       "    </tr>\n",
       "    <tr>\n",
       "      <th>1</th>\n",
       "      <td>0</td>\n",
       "      <td>Ok lar... Joking wif u oni...</td>\n",
       "      <td>29</td>\n",
       "      <td>8</td>\n",
       "      <td>2</td>\n",
       "      <td>ok lar joke wif u oni</td>\n",
       "    </tr>\n",
       "    <tr>\n",
       "      <th>2</th>\n",
       "      <td>1</td>\n",
       "      <td>Free entry in 2 a wkly comp to win FA Cup fina...</td>\n",
       "      <td>155</td>\n",
       "      <td>37</td>\n",
       "      <td>2</td>\n",
       "      <td>free entri 2 wkli comp win fa cup final tkt 21...</td>\n",
       "    </tr>\n",
       "    <tr>\n",
       "      <th>3</th>\n",
       "      <td>0</td>\n",
       "      <td>U dun say so early hor... U c already then say...</td>\n",
       "      <td>49</td>\n",
       "      <td>13</td>\n",
       "      <td>1</td>\n",
       "      <td>u dun say earli hor u c alreadi say</td>\n",
       "    </tr>\n",
       "    <tr>\n",
       "      <th>4</th>\n",
       "      <td>0</td>\n",
       "      <td>Nah I don't think he goes to usf, he lives aro...</td>\n",
       "      <td>61</td>\n",
       "      <td>15</td>\n",
       "      <td>1</td>\n",
       "      <td>nah think goe usf live around though</td>\n",
       "    </tr>\n",
       "  </tbody>\n",
       "</table>\n",
       "</div>"
      ],
      "text/plain": [
       "   target                                               text  num_characters  \\\n",
       "0       0  Go until jurong point, crazy.. Available only ...             111   \n",
       "1       0                      Ok lar... Joking wif u oni...              29   \n",
       "2       1  Free entry in 2 a wkly comp to win FA Cup fina...             155   \n",
       "3       0  U dun say so early hor... U c already then say...              49   \n",
       "4       0  Nah I don't think he goes to usf, he lives aro...              61   \n",
       "\n",
       "   num_words  num_sentences                                   transformed_text  \n",
       "0         23              2  go jurong point avail bugi n great world la e ...  \n",
       "1          8              2                              ok lar joke wif u oni  \n",
       "2         37              2  free entri 2 wkli comp win fa cup final tkt 21...  \n",
       "3         13              1                u dun say earli hor u c alreadi say  \n",
       "4         15              1               nah think goe usf live around though  "
      ]
     },
     "execution_count": 54,
     "metadata": {},
     "output_type": "execute_result"
    }
   ],
   "source": [
    "df.head()\n"
   ]
  },
  {
   "cell_type": "markdown",
   "metadata": {},
   "source": [
    "<a id=\"6\"></a>\n",
    "# <p style=\"background-color:mediumturquoise;font-family:newtimeroman;font-size:150%;color:white;text-align:center;border-radius:20px 60px;\">Model Building</p>\n",
    "\n",
    "### Steps :-\n",
    "\n",
    "    Setting X and y (target)\n",
    "    Splitting the testing and training sets (20:80)\n",
    "    We will start with Naive Bayes as it is proven to give best results on Textual data\n",
    "    Build a pipeline of model for multiple ML algorithms.\n",
    "    Fit all the models on training data\n",
    "    Get the cross-validation on the training set for all the models for accuracy\n",
    "\n",
    "### Models :-\n",
    "    \n",
    "    Multinomial Naïve Bayes\n",
    "    RandomForestClassifier\n",
    "    KNeighborsClassifier\n",
    "    Support Vector Machines\n",
    "    LogisticRegression\n",
    "    DecisionTreeClassifier\n",
    "    AdaBoostClassifier\n",
    "    BaggingClassifier\n",
    "    ExtraTreesClassifier\n",
    "    GradientBoostingClassifier\n",
    "    XGBClassifier\n"
   ]
  },
  {
   "cell_type": "markdown",
   "metadata": {},
   "source": [
    "#### Note : Our model evaluation metric won't be accuracy here as the dataset is imbalanced. We will consider Precision more important than accuravy!"
   ]
  },
  {
   "cell_type": "code",
   "execution_count": 55,
   "metadata": {
    "execution": {
     "iopub.execute_input": "2022-04-28T03:26:09.955781Z",
     "iopub.status.busy": "2022-04-28T03:26:09.955366Z",
     "iopub.status.idle": "2022-04-28T03:26:09.964601Z",
     "shell.execute_reply": "2022-04-28T03:26:09.963895Z",
     "shell.execute_reply.started": "2022-04-28T03:26:09.955740Z"
    }
   },
   "outputs": [
    {
     "data": {
      "text/plain": [
       "(5169, 3000)"
      ]
     },
     "execution_count": 55,
     "metadata": {},
     "output_type": "execute_result"
    }
   ],
   "source": [
    "X.shape"
   ]
  },
  {
   "cell_type": "code",
   "execution_count": 56,
   "metadata": {
    "execution": {
     "iopub.execute_input": "2022-04-28T03:26:09.966573Z",
     "iopub.status.busy": "2022-04-28T03:26:09.966095Z",
     "iopub.status.idle": "2022-04-28T03:26:09.973520Z",
     "shell.execute_reply": "2022-04-28T03:26:09.972920Z",
     "shell.execute_reply.started": "2022-04-28T03:26:09.966530Z"
    }
   },
   "outputs": [],
   "source": [
    "y = df['target'].values"
   ]
  },
  {
   "cell_type": "markdown",
   "metadata": {},
   "source": [
    "### Train-test split"
   ]
  },
  {
   "cell_type": "code",
   "execution_count": 57,
   "metadata": {
    "execution": {
     "iopub.execute_input": "2022-04-28T03:26:09.974517Z",
     "iopub.status.busy": "2022-04-28T03:26:09.974306Z",
     "iopub.status.idle": "2022-04-28T03:26:09.982873Z",
     "shell.execute_reply": "2022-04-28T03:26:09.982026Z",
     "shell.execute_reply.started": "2022-04-28T03:26:09.974492Z"
    }
   },
   "outputs": [],
   "source": [
    "from sklearn.model_selection import train_test_split"
   ]
  },
  {
   "cell_type": "code",
   "execution_count": 58,
   "metadata": {
    "execution": {
     "iopub.execute_input": "2022-04-28T03:26:09.984408Z",
     "iopub.status.busy": "2022-04-28T03:26:09.983836Z",
     "iopub.status.idle": "2022-04-28T03:26:10.063686Z",
     "shell.execute_reply": "2022-04-28T03:26:10.062765Z",
     "shell.execute_reply.started": "2022-04-28T03:26:09.984373Z"
    }
   },
   "outputs": [],
   "source": [
    "X_train,X_test,y_train,y_test = train_test_split(X,y,test_size=0.2,random_state=2)"
   ]
  },
  {
   "cell_type": "markdown",
   "metadata": {},
   "source": [
    "### MODEL 1- NAIVE BAYES"
   ]
  },
  {
   "cell_type": "markdown",
   "metadata": {},
   "source": [
    "    We will perform GaussianNB, MultinomialNB and BernoulliNB as Naive Bayes is proven to perform the best on textual data"
   ]
  },
  {
   "cell_type": "code",
   "execution_count": 59,
   "metadata": {
    "execution": {
     "iopub.execute_input": "2022-04-28T03:26:10.065595Z",
     "iopub.status.busy": "2022-04-28T03:26:10.065327Z",
     "iopub.status.idle": "2022-04-28T03:26:10.069613Z",
     "shell.execute_reply": "2022-04-28T03:26:10.068663Z",
     "shell.execute_reply.started": "2022-04-28T03:26:10.065556Z"
    }
   },
   "outputs": [],
   "source": [
    "from sklearn.naive_bayes import GaussianNB,MultinomialNB,BernoulliNB\n",
    "from sklearn.metrics import accuracy_score,confusion_matrix,precision_score"
   ]
  },
  {
   "cell_type": "code",
   "execution_count": 60,
   "metadata": {
    "execution": {
     "iopub.execute_input": "2022-04-28T03:26:10.071512Z",
     "iopub.status.busy": "2022-04-28T03:26:10.071053Z",
     "iopub.status.idle": "2022-04-28T03:26:10.084065Z",
     "shell.execute_reply": "2022-04-28T03:26:10.083406Z",
     "shell.execute_reply.started": "2022-04-28T03:26:10.071452Z"
    }
   },
   "outputs": [],
   "source": [
    "gnb = GaussianNB()\n",
    "mnb = MultinomialNB()\n",
    "bnb = BernoulliNB()"
   ]
  },
  {
   "cell_type": "markdown",
   "metadata": {},
   "source": [
    "### Guassian NB"
   ]
  },
  {
   "cell_type": "code",
   "execution_count": 61,
   "metadata": {
    "execution": {
     "iopub.execute_input": "2022-04-28T03:26:10.086094Z",
     "iopub.status.busy": "2022-04-28T03:26:10.085211Z",
     "iopub.status.idle": "2022-04-28T03:26:10.337325Z",
     "shell.execute_reply": "2022-04-28T03:26:10.336525Z",
     "shell.execute_reply.started": "2022-04-28T03:26:10.086050Z"
    }
   },
   "outputs": [
    {
     "name": "stdout",
     "output_type": "stream",
     "text": [
      "0.867504835589942\n",
      "[[785 111]\n",
      " [ 26 112]]\n",
      "0.5022421524663677\n"
     ]
    }
   ],
   "source": [
    "gnb.fit(X_train,y_train)\n",
    "y_pred1 = gnb.predict(X_test)\n",
    "print(accuracy_score(y_test,y_pred1))\n",
    "print(confusion_matrix(y_test,y_pred1))\n",
    "print(precision_score(y_test,y_pred1))"
   ]
  },
  {
   "cell_type": "markdown",
   "metadata": {},
   "source": [
    "### Multinomial NB"
   ]
  },
  {
   "cell_type": "code",
   "execution_count": 62,
   "metadata": {
    "execution": {
     "iopub.execute_input": "2022-04-28T03:26:10.340598Z",
     "iopub.status.busy": "2022-04-28T03:26:10.340361Z",
     "iopub.status.idle": "2022-04-28T03:26:10.398265Z",
     "shell.execute_reply": "2022-04-28T03:26:10.397130Z",
     "shell.execute_reply.started": "2022-04-28T03:26:10.340569Z"
    }
   },
   "outputs": [
    {
     "name": "stdout",
     "output_type": "stream",
     "text": [
      "0.9729206963249516\n",
      "[[896   0]\n",
      " [ 28 110]]\n",
      "1.0\n"
     ]
    }
   ],
   "source": [
    "mnb.fit(X_train,y_train)\n",
    "y_pred2 = mnb.predict(X_test)\n",
    "print(accuracy_score(y_test,y_pred2))\n",
    "print(confusion_matrix(y_test,y_pred2))\n",
    "print(precision_score(y_test,y_pred2))"
   ]
  },
  {
   "cell_type": "markdown",
   "metadata": {},
   "source": [
    "#### Wow! 100% precision score. This implies there isn't a single case of misclassification of aham email as spam and vice versa"
   ]
  },
  {
   "cell_type": "markdown",
   "metadata": {},
   "source": [
    "### BernoulIi NB"
   ]
  },
  {
   "cell_type": "code",
   "execution_count": 63,
   "metadata": {
    "execution": {
     "iopub.execute_input": "2022-04-28T03:26:10.403900Z",
     "iopub.status.busy": "2022-04-28T03:26:10.403447Z",
     "iopub.status.idle": "2022-04-28T03:26:10.606919Z",
     "shell.execute_reply": "2022-04-28T03:26:10.606021Z",
     "shell.execute_reply.started": "2022-04-28T03:26:10.403854Z"
    }
   },
   "outputs": [
    {
     "name": "stdout",
     "output_type": "stream",
     "text": [
      "0.9816247582205029\n",
      "[[895   1]\n",
      " [ 18 120]]\n",
      "0.9917355371900827\n"
     ]
    }
   ],
   "source": [
    "bnb.fit(X_train,y_train)\n",
    "y_pred3 = bnb.predict(X_test)\n",
    "print(accuracy_score(y_test,y_pred3))\n",
    "print(confusion_matrix(y_test,y_pred3))\n",
    "print(precision_score(y_test,y_pred3))"
   ]
  },
  {
   "cell_type": "markdown",
   "metadata": {},
   "source": [
    "#### BEST RESULTS SO FAR "
   ]
  },
  {
   "cell_type": "markdown",
   "metadata": {},
   "source": [
    "### SO WE GET a great model with combination :\n",
    "\n",
    "    tfidf --> MNB\n",
    "    and \n",
    "    tfidf --> BNB"
   ]
  },
  {
   "cell_type": "markdown",
   "metadata": {},
   "source": [
    "### Pipeline - OTHER MODELS "
   ]
  },
  {
   "cell_type": "code",
   "execution_count": 64,
   "metadata": {
    "execution": {
     "iopub.execute_input": "2022-04-28T03:26:10.608652Z",
     "iopub.status.busy": "2022-04-28T03:26:10.608166Z",
     "iopub.status.idle": "2022-04-28T03:26:10.804010Z",
     "shell.execute_reply": "2022-04-28T03:26:10.803250Z",
     "shell.execute_reply.started": "2022-04-28T03:26:10.608609Z"
    }
   },
   "outputs": [],
   "source": [
    "from sklearn.linear_model import LogisticRegression\n",
    "from sklearn.svm import SVC\n",
    "from sklearn.naive_bayes import MultinomialNB\n",
    "from sklearn.tree import DecisionTreeClassifier\n",
    "from sklearn.neighbors import KNeighborsClassifier\n",
    "from sklearn.ensemble import RandomForestClassifier\n",
    "from sklearn.ensemble import AdaBoostClassifier\n",
    "from sklearn.ensemble import BaggingClassifier\n",
    "from sklearn.ensemble import ExtraTreesClassifier\n",
    "from sklearn.ensemble import GradientBoostingClassifier\n",
    "from xgboost import XGBClassifier"
   ]
  },
  {
   "cell_type": "code",
   "execution_count": 65,
   "metadata": {
    "execution": {
     "iopub.execute_input": "2022-04-28T03:26:10.805852Z",
     "iopub.status.busy": "2022-04-28T03:26:10.805560Z",
     "iopub.status.idle": "2022-04-28T03:26:10.812507Z",
     "shell.execute_reply": "2022-04-28T03:26:10.811543Z",
     "shell.execute_reply.started": "2022-04-28T03:26:10.805811Z"
    }
   },
   "outputs": [],
   "source": [
    "svc = SVC(kernel='sigmoid', gamma=1.0)\n",
    "knc = KNeighborsClassifier()\n",
    "mnb = MultinomialNB()\n",
    "dtc = DecisionTreeClassifier(max_depth=5)\n",
    "lrc = LogisticRegression(solver='liblinear', penalty='l1')\n",
    "rfc = RandomForestClassifier(n_estimators=50, random_state=2)\n",
    "abc = AdaBoostClassifier(n_estimators=50, random_state=2)\n",
    "bc =  BaggingClassifier(n_estimators=50, random_state=2)\n",
    "etc = ExtraTreesClassifier(n_estimators=50, random_state=2)\n",
    "gbdt =GradientBoostingClassifier(n_estimators=50,random_state=2)\n",
    "xgb = XGBClassifier(n_estimators=50,random_state=2)"
   ]
  },
  {
   "cell_type": "markdown",
   "metadata": {},
   "source": [
    "#### Note :\n",
    "\n",
    "#### ExtraTreesClassifier\n",
    "\n",
    "    This class implements a meta estimator that fits a number of randomized decision trees (a.k.a. extra-trees) on various sub-samples of the dataset and uses averaging to improve the predictive accuracy and control over-fitting."
   ]
  },
  {
   "cell_type": "markdown",
   "metadata": {},
   "source": [
    "<a id=\"7\"></a>\n",
    "# <p style=\"background-color:mediumturquoise;font-family:newtimeroman;font-size:150%;color:white;text-align:center;border-radius:20px 60px;\">Model Evaluation</p>"
   ]
  },
  {
   "cell_type": "code",
   "execution_count": 66,
   "metadata": {
    "execution": {
     "iopub.execute_input": "2022-04-28T03:26:10.814347Z",
     "iopub.status.busy": "2022-04-28T03:26:10.813655Z",
     "iopub.status.idle": "2022-04-28T03:26:10.824655Z",
     "shell.execute_reply": "2022-04-28T03:26:10.823919Z",
     "shell.execute_reply.started": "2022-04-28T03:26:10.814316Z"
    }
   },
   "outputs": [],
   "source": [
    "# DICTIONARY OF CLASSIFIERS\n",
    "\n",
    "clfs = {\n",
    "    'SVC' : svc,\n",
    "    'KN' : knc, \n",
    "    'NB': mnb, \n",
    "    'DT': dtc, \n",
    "    'LR': lrc, \n",
    "    'RF': rfc, \n",
    "    'AdaBoost': abc, \n",
    "    'BgC': bc, \n",
    "    'ETC': etc,\n",
    "    'GBDT':gbdt,\n",
    "    'XGB':xgb\n",
    "}"
   ]
  },
  {
   "cell_type": "code",
   "execution_count": 67,
   "metadata": {
    "execution": {
     "iopub.execute_input": "2022-04-28T03:26:10.826216Z",
     "iopub.status.busy": "2022-04-28T03:26:10.825730Z",
     "iopub.status.idle": "2022-04-28T03:26:10.838082Z",
     "shell.execute_reply": "2022-04-28T03:26:10.837513Z",
     "shell.execute_reply.started": "2022-04-28T03:26:10.826179Z"
    }
   },
   "outputs": [],
   "source": [
    "def train_classifier(clf,X_train,y_train,X_test,y_test):\n",
    "    clf.fit(X_train,y_train)\n",
    "    y_pred = clf.predict(X_test)\n",
    "    #train_accuracy = accuracy_score(X_train, y_train)\n",
    "    accuracy = accuracy_score(y_test,y_pred)\n",
    "    precision = precision_score(y_test, y_pred)\n",
    "    f1 = metrics.f1_score(y_test, y_pred)\n",
    "    recall = metrics.recall_score(y_test, y_pred)\n",
    "    \n",
    "    return accuracy,precision,f1,recall"
   ]
  },
  {
   "cell_type": "code",
   "execution_count": 68,
   "metadata": {
    "execution": {
     "iopub.execute_input": "2022-04-28T03:26:10.839563Z",
     "iopub.status.busy": "2022-04-28T03:26:10.839186Z",
     "iopub.status.idle": "2022-04-28T03:26:10.848271Z",
     "shell.execute_reply": "2022-04-28T03:26:10.847655Z",
     "shell.execute_reply.started": "2022-04-28T03:26:10.839523Z"
    }
   },
   "outputs": [],
   "source": [
    "#train_classifier(svc,X_train,y_train,X_test,y_test)"
   ]
  },
  {
   "cell_type": "code",
   "execution_count": 69,
   "metadata": {
    "execution": {
     "iopub.execute_input": "2022-04-28T03:26:10.849950Z",
     "iopub.status.busy": "2022-04-28T03:26:10.849208Z",
     "iopub.status.idle": "2022-04-28T03:28:07.462259Z",
     "shell.execute_reply": "2022-04-28T03:28:07.461362Z",
     "shell.execute_reply.started": "2022-04-28T03:26:10.849907Z"
    }
   },
   "outputs": [
    {
     "name": "stdout",
     "output_type": "stream",
     "text": [
      "\n",
      "For classifier  SVC :\n",
      "  Test_Accuracy -  0.9748549323017408\n",
      "  Precision -  0.9666666666666667\n",
      "  F1 Score -  0.8992248062015503\n",
      "  Recall -  0.8405797101449275\n",
      "\n",
      "For classifier  KN :\n",
      "  Test_Accuracy -  0.9052224371373307\n",
      "  Precision -  1.0\n",
      "  F1 Score -  0.44943820224719105\n",
      "  Recall -  0.2898550724637681\n",
      "\n",
      "For classifier  NB :\n",
      "  Test_Accuracy -  0.9729206963249516\n",
      "  Precision -  1.0\n",
      "  F1 Score -  0.8870967741935484\n",
      "  Recall -  0.7971014492753623\n",
      "\n",
      "For classifier  DT :\n",
      "  Test_Accuracy -  0.9342359767891683\n",
      "  Precision -  0.85\n",
      "  F1 Score -  0.7142857142857143\n",
      "  Recall -  0.6159420289855072\n",
      "\n",
      "For classifier  LR :\n",
      "  Test_Accuracy -  0.9574468085106383\n",
      "  Precision -  0.9519230769230769\n",
      "  F1 Score -  0.8181818181818182\n",
      "  Recall -  0.717391304347826\n",
      "\n",
      "For classifier  RF :\n",
      "  Test_Accuracy -  0.971953578336557\n",
      "  Precision -  0.9739130434782609\n",
      "  F1 Score -  0.8853754940711462\n",
      "  Recall -  0.8115942028985508\n",
      "\n",
      "For classifier  AdaBoost :\n",
      "  Test_Accuracy -  0.9642166344294004\n",
      "  Precision -  0.9316239316239316\n",
      "  F1 Score -  0.8549019607843137\n",
      "  Recall -  0.7898550724637681\n",
      "\n",
      "For classifier  BgC :\n",
      "  Test_Accuracy -  0.9545454545454546\n",
      "  Precision -  0.8527131782945736\n",
      "  F1 Score -  0.8239700374531834\n",
      "  Recall -  0.7971014492753623\n",
      "\n",
      "For classifier  ETC :\n",
      "  Test_Accuracy -  0.9777562862669246\n",
      "  Precision -  0.9831932773109243\n",
      "  F1 Score -  0.9105058365758756\n",
      "  Recall -  0.8478260869565217\n",
      "\n",
      "For classifier  GBDT :\n",
      "  Test_Accuracy -  0.9487427466150871\n",
      "  Precision -  0.9292929292929293\n",
      "  F1 Score -  0.7763713080168776\n",
      "  Recall -  0.6666666666666666\n",
      "\n",
      "For classifier  XGB :\n",
      "  Test_Accuracy -  0.9690522243713733\n",
      "  Precision -  0.9416666666666667\n",
      "  F1 Score -  0.875968992248062\n",
      "  Recall -  0.8188405797101449\n"
     ]
    }
   ],
   "source": [
    "accuracy_scores = []\n",
    "precision_scores = []\n",
    "f1_scores = []\n",
    "recall_scores = []\n",
    "\n",
    "for name,clf in clfs.items():\n",
    "    \n",
    "    current_accuracy, current_precision, f1_score, recall_score = train_classifier(clf, X_train,y_train,X_test,y_test)\n",
    "    \n",
    "    print(\"\\nFor classifier \",name, \":\")\n",
    "\n",
    "    print(\"  Test_Accuracy - \",current_accuracy)\n",
    "    print(\"  Precision - \", current_precision)\n",
    "    print(\"  F1 Score - \", f1_score)\n",
    "    print(\"  Recall - \",recall_score)\n",
    "    \n",
    "    accuracy_scores.append(current_accuracy)\n",
    "    precision_scores.append(current_precision)\n",
    "    f1_scores.append(f1_score)\n",
    "    recall_scores.append(recall_score)\n",
    "   "
   ]
  },
  {
   "cell_type": "code",
   "execution_count": 70,
   "metadata": {
    "execution": {
     "iopub.execute_input": "2022-04-28T03:28:07.463639Z",
     "iopub.status.busy": "2022-04-28T03:28:07.463384Z",
     "iopub.status.idle": "2022-04-28T03:28:07.470149Z",
     "shell.execute_reply": "2022-04-28T03:28:07.469356Z",
     "shell.execute_reply.started": "2022-04-28T03:28:07.463599Z"
    }
   },
   "outputs": [],
   "source": [
    "performance_df = pd.DataFrame({'Algorithm':clfs.keys(),'Test_Accuracy':accuracy_scores,'Precision':precision_scores, 'Recall':recall_scores, 'F1_Score':f1_scores}).sort_values('Precision',ascending=False)"
   ]
  },
  {
   "cell_type": "code",
   "execution_count": 71,
   "metadata": {
    "execution": {
     "iopub.execute_input": "2022-04-28T03:28:07.471790Z",
     "iopub.status.busy": "2022-04-28T03:28:07.471104Z",
     "iopub.status.idle": "2022-04-28T03:28:07.544107Z",
     "shell.execute_reply": "2022-04-28T03:28:07.543230Z",
     "shell.execute_reply.started": "2022-04-28T03:28:07.471759Z"
    }
   },
   "outputs": [
    {
     "data": {
      "text/html": [
       "<style type=\"text/css\">\n",
       "#T_b108c_row0_col1, #T_b108c_row0_col3, #T_b108c_row0_col4, #T_b108c_row9_col2, #T_b108c_row10_col1, #T_b108c_row10_col2 {\n",
       "  background-color: #40e0d0;\n",
       "  color: #000000;\n",
       "}\n",
       "#T_b108c_row0_col2, #T_b108c_row1_col1, #T_b108c_row1_col2, #T_b108c_row1_col3, #T_b108c_row1_col4, #T_b108c_row2_col1, #T_b108c_row2_col2, #T_b108c_row2_col3, #T_b108c_row2_col4, #T_b108c_row3_col1, #T_b108c_row3_col2, #T_b108c_row3_col3, #T_b108c_row3_col4, #T_b108c_row4_col1, #T_b108c_row4_col2, #T_b108c_row4_col3, #T_b108c_row4_col4, #T_b108c_row5_col1, #T_b108c_row5_col2, #T_b108c_row5_col3, #T_b108c_row5_col4, #T_b108c_row6_col1, #T_b108c_row6_col2, #T_b108c_row6_col3, #T_b108c_row6_col4, #T_b108c_row7_col1, #T_b108c_row7_col2, #T_b108c_row7_col3, #T_b108c_row7_col4, #T_b108c_row8_col1, #T_b108c_row8_col2, #T_b108c_row8_col3, #T_b108c_row8_col4, #T_b108c_row9_col1, #T_b108c_row9_col3, #T_b108c_row9_col4, #T_b108c_row10_col3, #T_b108c_row10_col4 {\n",
       "  background-color: #ff8975;\n",
       "  color: #f1f1f1;\n",
       "}\n",
       "</style>\n",
       "<table id=\"T_b108c_\">\n",
       "  <thead>\n",
       "    <tr>\n",
       "      <th class=\"blank level0\" >&nbsp;</th>\n",
       "      <th class=\"col_heading level0 col0\" >Algorithm</th>\n",
       "      <th class=\"col_heading level0 col1\" >Test_Accuracy</th>\n",
       "      <th class=\"col_heading level0 col2\" >Precision</th>\n",
       "      <th class=\"col_heading level0 col3\" >Recall</th>\n",
       "      <th class=\"col_heading level0 col4\" >F1_Score</th>\n",
       "    </tr>\n",
       "  </thead>\n",
       "  <tbody>\n",
       "    <tr>\n",
       "      <th id=\"T_b108c_level0_row0\" class=\"row_heading level0 row0\" >1</th>\n",
       "      <td id=\"T_b108c_row0_col0\" class=\"data row0 col0\" >KN</td>\n",
       "      <td id=\"T_b108c_row0_col1\" class=\"data row0 col1\" >0.905222</td>\n",
       "      <td id=\"T_b108c_row0_col2\" class=\"data row0 col2\" >1.000000</td>\n",
       "      <td id=\"T_b108c_row0_col3\" class=\"data row0 col3\" >0.289855</td>\n",
       "      <td id=\"T_b108c_row0_col4\" class=\"data row0 col4\" >0.449438</td>\n",
       "    </tr>\n",
       "    <tr>\n",
       "      <th id=\"T_b108c_level0_row1\" class=\"row_heading level0 row1\" >2</th>\n",
       "      <td id=\"T_b108c_row1_col0\" class=\"data row1 col0\" >NB</td>\n",
       "      <td id=\"T_b108c_row1_col1\" class=\"data row1 col1\" >0.972921</td>\n",
       "      <td id=\"T_b108c_row1_col2\" class=\"data row1 col2\" >1.000000</td>\n",
       "      <td id=\"T_b108c_row1_col3\" class=\"data row1 col3\" >0.797101</td>\n",
       "      <td id=\"T_b108c_row1_col4\" class=\"data row1 col4\" >0.887097</td>\n",
       "    </tr>\n",
       "    <tr>\n",
       "      <th id=\"T_b108c_level0_row2\" class=\"row_heading level0 row2\" >8</th>\n",
       "      <td id=\"T_b108c_row2_col0\" class=\"data row2 col0\" >ETC</td>\n",
       "      <td id=\"T_b108c_row2_col1\" class=\"data row2 col1\" >0.977756</td>\n",
       "      <td id=\"T_b108c_row2_col2\" class=\"data row2 col2\" >0.983193</td>\n",
       "      <td id=\"T_b108c_row2_col3\" class=\"data row2 col3\" >0.847826</td>\n",
       "      <td id=\"T_b108c_row2_col4\" class=\"data row2 col4\" >0.910506</td>\n",
       "    </tr>\n",
       "    <tr>\n",
       "      <th id=\"T_b108c_level0_row3\" class=\"row_heading level0 row3\" >5</th>\n",
       "      <td id=\"T_b108c_row3_col0\" class=\"data row3 col0\" >RF</td>\n",
       "      <td id=\"T_b108c_row3_col1\" class=\"data row3 col1\" >0.971954</td>\n",
       "      <td id=\"T_b108c_row3_col2\" class=\"data row3 col2\" >0.973913</td>\n",
       "      <td id=\"T_b108c_row3_col3\" class=\"data row3 col3\" >0.811594</td>\n",
       "      <td id=\"T_b108c_row3_col4\" class=\"data row3 col4\" >0.885375</td>\n",
       "    </tr>\n",
       "    <tr>\n",
       "      <th id=\"T_b108c_level0_row4\" class=\"row_heading level0 row4\" >0</th>\n",
       "      <td id=\"T_b108c_row4_col0\" class=\"data row4 col0\" >SVC</td>\n",
       "      <td id=\"T_b108c_row4_col1\" class=\"data row4 col1\" >0.974855</td>\n",
       "      <td id=\"T_b108c_row4_col2\" class=\"data row4 col2\" >0.966667</td>\n",
       "      <td id=\"T_b108c_row4_col3\" class=\"data row4 col3\" >0.840580</td>\n",
       "      <td id=\"T_b108c_row4_col4\" class=\"data row4 col4\" >0.899225</td>\n",
       "    </tr>\n",
       "    <tr>\n",
       "      <th id=\"T_b108c_level0_row5\" class=\"row_heading level0 row5\" >4</th>\n",
       "      <td id=\"T_b108c_row5_col0\" class=\"data row5 col0\" >LR</td>\n",
       "      <td id=\"T_b108c_row5_col1\" class=\"data row5 col1\" >0.957447</td>\n",
       "      <td id=\"T_b108c_row5_col2\" class=\"data row5 col2\" >0.951923</td>\n",
       "      <td id=\"T_b108c_row5_col3\" class=\"data row5 col3\" >0.717391</td>\n",
       "      <td id=\"T_b108c_row5_col4\" class=\"data row5 col4\" >0.818182</td>\n",
       "    </tr>\n",
       "    <tr>\n",
       "      <th id=\"T_b108c_level0_row6\" class=\"row_heading level0 row6\" >10</th>\n",
       "      <td id=\"T_b108c_row6_col0\" class=\"data row6 col0\" >XGB</td>\n",
       "      <td id=\"T_b108c_row6_col1\" class=\"data row6 col1\" >0.969052</td>\n",
       "      <td id=\"T_b108c_row6_col2\" class=\"data row6 col2\" >0.941667</td>\n",
       "      <td id=\"T_b108c_row6_col3\" class=\"data row6 col3\" >0.818841</td>\n",
       "      <td id=\"T_b108c_row6_col4\" class=\"data row6 col4\" >0.875969</td>\n",
       "    </tr>\n",
       "    <tr>\n",
       "      <th id=\"T_b108c_level0_row7\" class=\"row_heading level0 row7\" >6</th>\n",
       "      <td id=\"T_b108c_row7_col0\" class=\"data row7 col0\" >AdaBoost</td>\n",
       "      <td id=\"T_b108c_row7_col1\" class=\"data row7 col1\" >0.964217</td>\n",
       "      <td id=\"T_b108c_row7_col2\" class=\"data row7 col2\" >0.931624</td>\n",
       "      <td id=\"T_b108c_row7_col3\" class=\"data row7 col3\" >0.789855</td>\n",
       "      <td id=\"T_b108c_row7_col4\" class=\"data row7 col4\" >0.854902</td>\n",
       "    </tr>\n",
       "    <tr>\n",
       "      <th id=\"T_b108c_level0_row8\" class=\"row_heading level0 row8\" >9</th>\n",
       "      <td id=\"T_b108c_row8_col0\" class=\"data row8 col0\" >GBDT</td>\n",
       "      <td id=\"T_b108c_row8_col1\" class=\"data row8 col1\" >0.948743</td>\n",
       "      <td id=\"T_b108c_row8_col2\" class=\"data row8 col2\" >0.929293</td>\n",
       "      <td id=\"T_b108c_row8_col3\" class=\"data row8 col3\" >0.666667</td>\n",
       "      <td id=\"T_b108c_row8_col4\" class=\"data row8 col4\" >0.776371</td>\n",
       "    </tr>\n",
       "    <tr>\n",
       "      <th id=\"T_b108c_level0_row9\" class=\"row_heading level0 row9\" >7</th>\n",
       "      <td id=\"T_b108c_row9_col0\" class=\"data row9 col0\" >BgC</td>\n",
       "      <td id=\"T_b108c_row9_col1\" class=\"data row9 col1\" >0.954545</td>\n",
       "      <td id=\"T_b108c_row9_col2\" class=\"data row9 col2\" >0.852713</td>\n",
       "      <td id=\"T_b108c_row9_col3\" class=\"data row9 col3\" >0.797101</td>\n",
       "      <td id=\"T_b108c_row9_col4\" class=\"data row9 col4\" >0.823970</td>\n",
       "    </tr>\n",
       "    <tr>\n",
       "      <th id=\"T_b108c_level0_row10\" class=\"row_heading level0 row10\" >3</th>\n",
       "      <td id=\"T_b108c_row10_col0\" class=\"data row10 col0\" >DT</td>\n",
       "      <td id=\"T_b108c_row10_col1\" class=\"data row10 col1\" >0.934236</td>\n",
       "      <td id=\"T_b108c_row10_col2\" class=\"data row10 col2\" >0.850000</td>\n",
       "      <td id=\"T_b108c_row10_col3\" class=\"data row10 col3\" >0.615942</td>\n",
       "      <td id=\"T_b108c_row10_col4\" class=\"data row10 col4\" >0.714286</td>\n",
       "    </tr>\n",
       "  </tbody>\n",
       "</table>\n"
      ],
      "text/plain": [
       "<pandas.io.formats.style.Styler at 0x7f0ca03c24d0>"
      ]
     },
     "execution_count": 71,
     "metadata": {},
     "output_type": "execute_result"
    }
   ],
   "source": [
    "cmap2 = ListedColormap(['turquoise','#ff8975'])\n",
    "performance_df.style.background_gradient(cmap=cmap2)"
   ]
  },
  {
   "cell_type": "markdown",
   "metadata": {},
   "source": [
    "### BEST PERFORMANCE AMOUNG ALL CONSIDERING PRECISION - NB and KN\n",
    "\n",
    "### Overall best performance - NB, ETC , SVC and RF"
   ]
  },
  {
   "cell_type": "code",
   "execution_count": 72,
   "metadata": {
    "execution": {
     "iopub.execute_input": "2022-04-28T03:28:07.545868Z",
     "iopub.status.busy": "2022-04-28T03:28:07.545407Z",
     "iopub.status.idle": "2022-04-28T03:28:07.557115Z",
     "shell.execute_reply": "2022-04-28T03:28:07.556269Z",
     "shell.execute_reply.started": "2022-04-28T03:28:07.545838Z"
    }
   },
   "outputs": [
    {
     "data": {
      "text/html": [
       "<div>\n",
       "<style scoped>\n",
       "    .dataframe tbody tr th:only-of-type {\n",
       "        vertical-align: middle;\n",
       "    }\n",
       "\n",
       "    .dataframe tbody tr th {\n",
       "        vertical-align: top;\n",
       "    }\n",
       "\n",
       "    .dataframe thead th {\n",
       "        text-align: right;\n",
       "    }\n",
       "</style>\n",
       "<table border=\"1\" class=\"dataframe\">\n",
       "  <thead>\n",
       "    <tr style=\"text-align: right;\">\n",
       "      <th></th>\n",
       "      <th>Algorithm</th>\n",
       "      <th>Test_Accuracy</th>\n",
       "      <th>Precision</th>\n",
       "      <th>Recall</th>\n",
       "      <th>F1_Score</th>\n",
       "    </tr>\n",
       "  </thead>\n",
       "  <tbody>\n",
       "    <tr>\n",
       "      <th>1</th>\n",
       "      <td>KN</td>\n",
       "      <td>0.905222</td>\n",
       "      <td>1.000000</td>\n",
       "      <td>0.289855</td>\n",
       "      <td>0.449438</td>\n",
       "    </tr>\n",
       "    <tr>\n",
       "      <th>2</th>\n",
       "      <td>NB</td>\n",
       "      <td>0.972921</td>\n",
       "      <td>1.000000</td>\n",
       "      <td>0.797101</td>\n",
       "      <td>0.887097</td>\n",
       "    </tr>\n",
       "    <tr>\n",
       "      <th>8</th>\n",
       "      <td>ETC</td>\n",
       "      <td>0.977756</td>\n",
       "      <td>0.983193</td>\n",
       "      <td>0.847826</td>\n",
       "      <td>0.910506</td>\n",
       "    </tr>\n",
       "    <tr>\n",
       "      <th>5</th>\n",
       "      <td>RF</td>\n",
       "      <td>0.971954</td>\n",
       "      <td>0.973913</td>\n",
       "      <td>0.811594</td>\n",
       "      <td>0.885375</td>\n",
       "    </tr>\n",
       "    <tr>\n",
       "      <th>0</th>\n",
       "      <td>SVC</td>\n",
       "      <td>0.974855</td>\n",
       "      <td>0.966667</td>\n",
       "      <td>0.840580</td>\n",
       "      <td>0.899225</td>\n",
       "    </tr>\n",
       "    <tr>\n",
       "      <th>4</th>\n",
       "      <td>LR</td>\n",
       "      <td>0.957447</td>\n",
       "      <td>0.951923</td>\n",
       "      <td>0.717391</td>\n",
       "      <td>0.818182</td>\n",
       "    </tr>\n",
       "    <tr>\n",
       "      <th>10</th>\n",
       "      <td>XGB</td>\n",
       "      <td>0.969052</td>\n",
       "      <td>0.941667</td>\n",
       "      <td>0.818841</td>\n",
       "      <td>0.875969</td>\n",
       "    </tr>\n",
       "    <tr>\n",
       "      <th>6</th>\n",
       "      <td>AdaBoost</td>\n",
       "      <td>0.964217</td>\n",
       "      <td>0.931624</td>\n",
       "      <td>0.789855</td>\n",
       "      <td>0.854902</td>\n",
       "    </tr>\n",
       "    <tr>\n",
       "      <th>9</th>\n",
       "      <td>GBDT</td>\n",
       "      <td>0.948743</td>\n",
       "      <td>0.929293</td>\n",
       "      <td>0.666667</td>\n",
       "      <td>0.776371</td>\n",
       "    </tr>\n",
       "    <tr>\n",
       "      <th>7</th>\n",
       "      <td>BgC</td>\n",
       "      <td>0.954545</td>\n",
       "      <td>0.852713</td>\n",
       "      <td>0.797101</td>\n",
       "      <td>0.823970</td>\n",
       "    </tr>\n",
       "    <tr>\n",
       "      <th>3</th>\n",
       "      <td>DT</td>\n",
       "      <td>0.934236</td>\n",
       "      <td>0.850000</td>\n",
       "      <td>0.615942</td>\n",
       "      <td>0.714286</td>\n",
       "    </tr>\n",
       "  </tbody>\n",
       "</table>\n",
       "</div>"
      ],
      "text/plain": [
       "   Algorithm  Test_Accuracy  Precision    Recall  F1_Score\n",
       "1         KN       0.905222   1.000000  0.289855  0.449438\n",
       "2         NB       0.972921   1.000000  0.797101  0.887097\n",
       "8        ETC       0.977756   0.983193  0.847826  0.910506\n",
       "5         RF       0.971954   0.973913  0.811594  0.885375\n",
       "0        SVC       0.974855   0.966667  0.840580  0.899225\n",
       "4         LR       0.957447   0.951923  0.717391  0.818182\n",
       "10       XGB       0.969052   0.941667  0.818841  0.875969\n",
       "6   AdaBoost       0.964217   0.931624  0.789855  0.854902\n",
       "9       GBDT       0.948743   0.929293  0.666667  0.776371\n",
       "7        BgC       0.954545   0.852713  0.797101  0.823970\n",
       "3         DT       0.934236   0.850000  0.615942  0.714286"
      ]
     },
     "execution_count": 72,
     "metadata": {},
     "output_type": "execute_result"
    }
   ],
   "source": [
    "performance_df"
   ]
  },
  {
   "cell_type": "code",
   "execution_count": 73,
   "metadata": {
    "execution": {
     "iopub.execute_input": "2022-04-28T03:28:07.558699Z",
     "iopub.status.busy": "2022-04-28T03:28:07.558440Z",
     "iopub.status.idle": "2022-04-28T03:28:07.569384Z",
     "shell.execute_reply": "2022-04-28T03:28:07.568507Z",
     "shell.execute_reply.started": "2022-04-28T03:28:07.558671Z"
    }
   },
   "outputs": [],
   "source": [
    "performance_df1 = pd.melt(performance_df, id_vars = \"Algorithm\")"
   ]
  },
  {
   "cell_type": "markdown",
   "metadata": {},
   "source": [
    "### Note :\n",
    "\n",
    "    Pandas melt() function is used to change the DataFrame format from wide to long. It's used to create a specific format of the DataFrame object where one or more columns work as identifiers. All the remaining columns are treated as values and unpivoted to the row axis and only two columns – variable and value."
   ]
  },
  {
   "cell_type": "code",
   "execution_count": 74,
   "metadata": {
    "execution": {
     "iopub.execute_input": "2022-04-28T03:28:07.571225Z",
     "iopub.status.busy": "2022-04-28T03:28:07.570928Z",
     "iopub.status.idle": "2022-04-28T03:28:07.589081Z",
     "shell.execute_reply": "2022-04-28T03:28:07.588197Z",
     "shell.execute_reply.started": "2022-04-28T03:28:07.571167Z"
    }
   },
   "outputs": [
    {
     "data": {
      "text/html": [
       "<div>\n",
       "<style scoped>\n",
       "    .dataframe tbody tr th:only-of-type {\n",
       "        vertical-align: middle;\n",
       "    }\n",
       "\n",
       "    .dataframe tbody tr th {\n",
       "        vertical-align: top;\n",
       "    }\n",
       "\n",
       "    .dataframe thead th {\n",
       "        text-align: right;\n",
       "    }\n",
       "</style>\n",
       "<table border=\"1\" class=\"dataframe\">\n",
       "  <thead>\n",
       "    <tr style=\"text-align: right;\">\n",
       "      <th></th>\n",
       "      <th>Algorithm</th>\n",
       "      <th>variable</th>\n",
       "      <th>value</th>\n",
       "    </tr>\n",
       "  </thead>\n",
       "  <tbody>\n",
       "    <tr>\n",
       "      <th>0</th>\n",
       "      <td>KN</td>\n",
       "      <td>Test_Accuracy</td>\n",
       "      <td>0.905222</td>\n",
       "    </tr>\n",
       "    <tr>\n",
       "      <th>1</th>\n",
       "      <td>NB</td>\n",
       "      <td>Test_Accuracy</td>\n",
       "      <td>0.972921</td>\n",
       "    </tr>\n",
       "    <tr>\n",
       "      <th>2</th>\n",
       "      <td>ETC</td>\n",
       "      <td>Test_Accuracy</td>\n",
       "      <td>0.977756</td>\n",
       "    </tr>\n",
       "    <tr>\n",
       "      <th>3</th>\n",
       "      <td>RF</td>\n",
       "      <td>Test_Accuracy</td>\n",
       "      <td>0.971954</td>\n",
       "    </tr>\n",
       "    <tr>\n",
       "      <th>4</th>\n",
       "      <td>SVC</td>\n",
       "      <td>Test_Accuracy</td>\n",
       "      <td>0.974855</td>\n",
       "    </tr>\n",
       "    <tr>\n",
       "      <th>5</th>\n",
       "      <td>LR</td>\n",
       "      <td>Test_Accuracy</td>\n",
       "      <td>0.957447</td>\n",
       "    </tr>\n",
       "    <tr>\n",
       "      <th>6</th>\n",
       "      <td>XGB</td>\n",
       "      <td>Test_Accuracy</td>\n",
       "      <td>0.969052</td>\n",
       "    </tr>\n",
       "    <tr>\n",
       "      <th>7</th>\n",
       "      <td>AdaBoost</td>\n",
       "      <td>Test_Accuracy</td>\n",
       "      <td>0.964217</td>\n",
       "    </tr>\n",
       "    <tr>\n",
       "      <th>8</th>\n",
       "      <td>GBDT</td>\n",
       "      <td>Test_Accuracy</td>\n",
       "      <td>0.948743</td>\n",
       "    </tr>\n",
       "    <tr>\n",
       "      <th>9</th>\n",
       "      <td>BgC</td>\n",
       "      <td>Test_Accuracy</td>\n",
       "      <td>0.954545</td>\n",
       "    </tr>\n",
       "    <tr>\n",
       "      <th>10</th>\n",
       "      <td>DT</td>\n",
       "      <td>Test_Accuracy</td>\n",
       "      <td>0.934236</td>\n",
       "    </tr>\n",
       "    <tr>\n",
       "      <th>11</th>\n",
       "      <td>KN</td>\n",
       "      <td>Precision</td>\n",
       "      <td>1.000000</td>\n",
       "    </tr>\n",
       "    <tr>\n",
       "      <th>12</th>\n",
       "      <td>NB</td>\n",
       "      <td>Precision</td>\n",
       "      <td>1.000000</td>\n",
       "    </tr>\n",
       "    <tr>\n",
       "      <th>13</th>\n",
       "      <td>ETC</td>\n",
       "      <td>Precision</td>\n",
       "      <td>0.983193</td>\n",
       "    </tr>\n",
       "    <tr>\n",
       "      <th>14</th>\n",
       "      <td>RF</td>\n",
       "      <td>Precision</td>\n",
       "      <td>0.973913</td>\n",
       "    </tr>\n",
       "    <tr>\n",
       "      <th>15</th>\n",
       "      <td>SVC</td>\n",
       "      <td>Precision</td>\n",
       "      <td>0.966667</td>\n",
       "    </tr>\n",
       "    <tr>\n",
       "      <th>16</th>\n",
       "      <td>LR</td>\n",
       "      <td>Precision</td>\n",
       "      <td>0.951923</td>\n",
       "    </tr>\n",
       "    <tr>\n",
       "      <th>17</th>\n",
       "      <td>XGB</td>\n",
       "      <td>Precision</td>\n",
       "      <td>0.941667</td>\n",
       "    </tr>\n",
       "    <tr>\n",
       "      <th>18</th>\n",
       "      <td>AdaBoost</td>\n",
       "      <td>Precision</td>\n",
       "      <td>0.931624</td>\n",
       "    </tr>\n",
       "    <tr>\n",
       "      <th>19</th>\n",
       "      <td>GBDT</td>\n",
       "      <td>Precision</td>\n",
       "      <td>0.929293</td>\n",
       "    </tr>\n",
       "    <tr>\n",
       "      <th>20</th>\n",
       "      <td>BgC</td>\n",
       "      <td>Precision</td>\n",
       "      <td>0.852713</td>\n",
       "    </tr>\n",
       "    <tr>\n",
       "      <th>21</th>\n",
       "      <td>DT</td>\n",
       "      <td>Precision</td>\n",
       "      <td>0.850000</td>\n",
       "    </tr>\n",
       "    <tr>\n",
       "      <th>22</th>\n",
       "      <td>KN</td>\n",
       "      <td>Recall</td>\n",
       "      <td>0.289855</td>\n",
       "    </tr>\n",
       "    <tr>\n",
       "      <th>23</th>\n",
       "      <td>NB</td>\n",
       "      <td>Recall</td>\n",
       "      <td>0.797101</td>\n",
       "    </tr>\n",
       "    <tr>\n",
       "      <th>24</th>\n",
       "      <td>ETC</td>\n",
       "      <td>Recall</td>\n",
       "      <td>0.847826</td>\n",
       "    </tr>\n",
       "    <tr>\n",
       "      <th>25</th>\n",
       "      <td>RF</td>\n",
       "      <td>Recall</td>\n",
       "      <td>0.811594</td>\n",
       "    </tr>\n",
       "    <tr>\n",
       "      <th>26</th>\n",
       "      <td>SVC</td>\n",
       "      <td>Recall</td>\n",
       "      <td>0.840580</td>\n",
       "    </tr>\n",
       "    <tr>\n",
       "      <th>27</th>\n",
       "      <td>LR</td>\n",
       "      <td>Recall</td>\n",
       "      <td>0.717391</td>\n",
       "    </tr>\n",
       "    <tr>\n",
       "      <th>28</th>\n",
       "      <td>XGB</td>\n",
       "      <td>Recall</td>\n",
       "      <td>0.818841</td>\n",
       "    </tr>\n",
       "    <tr>\n",
       "      <th>29</th>\n",
       "      <td>AdaBoost</td>\n",
       "      <td>Recall</td>\n",
       "      <td>0.789855</td>\n",
       "    </tr>\n",
       "    <tr>\n",
       "      <th>30</th>\n",
       "      <td>GBDT</td>\n",
       "      <td>Recall</td>\n",
       "      <td>0.666667</td>\n",
       "    </tr>\n",
       "    <tr>\n",
       "      <th>31</th>\n",
       "      <td>BgC</td>\n",
       "      <td>Recall</td>\n",
       "      <td>0.797101</td>\n",
       "    </tr>\n",
       "    <tr>\n",
       "      <th>32</th>\n",
       "      <td>DT</td>\n",
       "      <td>Recall</td>\n",
       "      <td>0.615942</td>\n",
       "    </tr>\n",
       "    <tr>\n",
       "      <th>33</th>\n",
       "      <td>KN</td>\n",
       "      <td>F1_Score</td>\n",
       "      <td>0.449438</td>\n",
       "    </tr>\n",
       "    <tr>\n",
       "      <th>34</th>\n",
       "      <td>NB</td>\n",
       "      <td>F1_Score</td>\n",
       "      <td>0.887097</td>\n",
       "    </tr>\n",
       "    <tr>\n",
       "      <th>35</th>\n",
       "      <td>ETC</td>\n",
       "      <td>F1_Score</td>\n",
       "      <td>0.910506</td>\n",
       "    </tr>\n",
       "    <tr>\n",
       "      <th>36</th>\n",
       "      <td>RF</td>\n",
       "      <td>F1_Score</td>\n",
       "      <td>0.885375</td>\n",
       "    </tr>\n",
       "    <tr>\n",
       "      <th>37</th>\n",
       "      <td>SVC</td>\n",
       "      <td>F1_Score</td>\n",
       "      <td>0.899225</td>\n",
       "    </tr>\n",
       "    <tr>\n",
       "      <th>38</th>\n",
       "      <td>LR</td>\n",
       "      <td>F1_Score</td>\n",
       "      <td>0.818182</td>\n",
       "    </tr>\n",
       "    <tr>\n",
       "      <th>39</th>\n",
       "      <td>XGB</td>\n",
       "      <td>F1_Score</td>\n",
       "      <td>0.875969</td>\n",
       "    </tr>\n",
       "    <tr>\n",
       "      <th>40</th>\n",
       "      <td>AdaBoost</td>\n",
       "      <td>F1_Score</td>\n",
       "      <td>0.854902</td>\n",
       "    </tr>\n",
       "    <tr>\n",
       "      <th>41</th>\n",
       "      <td>GBDT</td>\n",
       "      <td>F1_Score</td>\n",
       "      <td>0.776371</td>\n",
       "    </tr>\n",
       "    <tr>\n",
       "      <th>42</th>\n",
       "      <td>BgC</td>\n",
       "      <td>F1_Score</td>\n",
       "      <td>0.823970</td>\n",
       "    </tr>\n",
       "    <tr>\n",
       "      <th>43</th>\n",
       "      <td>DT</td>\n",
       "      <td>F1_Score</td>\n",
       "      <td>0.714286</td>\n",
       "    </tr>\n",
       "  </tbody>\n",
       "</table>\n",
       "</div>"
      ],
      "text/plain": [
       "   Algorithm       variable     value\n",
       "0         KN  Test_Accuracy  0.905222\n",
       "1         NB  Test_Accuracy  0.972921\n",
       "2        ETC  Test_Accuracy  0.977756\n",
       "3         RF  Test_Accuracy  0.971954\n",
       "4        SVC  Test_Accuracy  0.974855\n",
       "5         LR  Test_Accuracy  0.957447\n",
       "6        XGB  Test_Accuracy  0.969052\n",
       "7   AdaBoost  Test_Accuracy  0.964217\n",
       "8       GBDT  Test_Accuracy  0.948743\n",
       "9        BgC  Test_Accuracy  0.954545\n",
       "10        DT  Test_Accuracy  0.934236\n",
       "11        KN      Precision  1.000000\n",
       "12        NB      Precision  1.000000\n",
       "13       ETC      Precision  0.983193\n",
       "14        RF      Precision  0.973913\n",
       "15       SVC      Precision  0.966667\n",
       "16        LR      Precision  0.951923\n",
       "17       XGB      Precision  0.941667\n",
       "18  AdaBoost      Precision  0.931624\n",
       "19      GBDT      Precision  0.929293\n",
       "20       BgC      Precision  0.852713\n",
       "21        DT      Precision  0.850000\n",
       "22        KN         Recall  0.289855\n",
       "23        NB         Recall  0.797101\n",
       "24       ETC         Recall  0.847826\n",
       "25        RF         Recall  0.811594\n",
       "26       SVC         Recall  0.840580\n",
       "27        LR         Recall  0.717391\n",
       "28       XGB         Recall  0.818841\n",
       "29  AdaBoost         Recall  0.789855\n",
       "30      GBDT         Recall  0.666667\n",
       "31       BgC         Recall  0.797101\n",
       "32        DT         Recall  0.615942\n",
       "33        KN       F1_Score  0.449438\n",
       "34        NB       F1_Score  0.887097\n",
       "35       ETC       F1_Score  0.910506\n",
       "36        RF       F1_Score  0.885375\n",
       "37       SVC       F1_Score  0.899225\n",
       "38        LR       F1_Score  0.818182\n",
       "39       XGB       F1_Score  0.875969\n",
       "40  AdaBoost       F1_Score  0.854902\n",
       "41      GBDT       F1_Score  0.776371\n",
       "42       BgC       F1_Score  0.823970\n",
       "43        DT       F1_Score  0.714286"
      ]
     },
     "execution_count": 74,
     "metadata": {},
     "output_type": "execute_result"
    }
   ],
   "source": [
    "performance_df1"
   ]
  },
  {
   "cell_type": "code",
   "execution_count": 75,
   "metadata": {
    "execution": {
     "iopub.execute_input": "2022-04-28T03:28:07.590417Z",
     "iopub.status.busy": "2022-04-28T03:28:07.590162Z",
     "iopub.status.idle": "2022-04-28T03:28:08.091935Z",
     "shell.execute_reply": "2022-04-28T03:28:08.091108Z",
     "shell.execute_reply.started": "2022-04-28T03:28:07.590390Z"
    }
   },
   "outputs": [
    {
     "data": {
      "image/png": "[encoded data removed]",
      "text/plain": [
       "<Figure size 1099.85x432 with 1 Axes>"
      ]
     },
     "metadata": {
      "needs_background": "light"
     },
     "output_type": "display_data"
    }
   ],
   "source": [
    "cols = cols= ['cyan','#ff8975', 'mediumpurple','greenyellow'] \n",
    "plt = sns.catplot(x = 'Algorithm', y='value', \n",
    "               hue = 'variable',data=performance_df1, kind='bar',height=6, palette = cols, aspect=2.3)\n",
    "\n",
    "\n",
    "plt.set(ylim=(0,1.0))\n",
    "for axes in plt.axes.flat:\n",
    "    _ = axes.set_xticklabels(axes.get_xticklabels(), rotation=45, size=13)"
   ]
  },
  {
   "cell_type": "markdown",
   "metadata": {},
   "source": [
    "### As expected, NB shows the overall best performance amongst all"
   ]
  },
  {
   "cell_type": "markdown",
   "metadata": {},
   "source": [
    "Let's see if we can further improve upon this model..."
   ]
  },
  {
   "cell_type": "markdown",
   "metadata": {},
   "source": [
    "\n",
    "<a id=\"8\"></a>\n",
    "# <p style=\"background-color:mediumturquoise;font-family:newtimeroman;font-size:150%;color:white;text-align:center;border-radius:20px 60px;\">Model Improvement</p>\n",
    "\n",
    "#### 1. Change the max_features parameter of TfIdf to 3000\n",
    "\n",
    "#### 2. Try min_max scaler\n",
    "\n",
    "#### 3. Use voting and stacking classifiers (combination of best performing models)"
   ]
  },
  {
   "cell_type": "markdown",
   "metadata": {},
   "source": [
    "### Use max_features = 3000 in TFIDF"
   ]
  },
  {
   "cell_type": "code",
   "execution_count": 76,
   "metadata": {
    "execution": {
     "iopub.execute_input": "2022-04-28T03:28:08.093785Z",
     "iopub.status.busy": "2022-04-28T03:28:08.093491Z",
     "iopub.status.idle": "2022-04-28T03:28:08.100273Z",
     "shell.execute_reply": "2022-04-28T03:28:08.099327Z",
     "shell.execute_reply.started": "2022-04-28T03:28:08.093745Z"
    }
   },
   "outputs": [],
   "source": [
    "temp_df = pd.DataFrame({'Algorithm':clfs.keys(),'Accuracy_max_ft_3000':accuracy_scores,'Precision_max_ft_3000':precision_scores}).sort_values('Precision_max_ft_3000',ascending=False)"
   ]
  },
  {
   "cell_type": "code",
   "execution_count": 77,
   "metadata": {
    "execution": {
     "iopub.execute_input": "2022-04-28T03:28:08.102229Z",
     "iopub.status.busy": "2022-04-28T03:28:08.101943Z",
     "iopub.status.idle": "2022-04-28T03:28:08.112006Z",
     "shell.execute_reply": "2022-04-28T03:28:08.111254Z",
     "shell.execute_reply.started": "2022-04-28T03:28:08.102192Z"
    }
   },
   "outputs": [],
   "source": [
    "temp_df = pd.DataFrame({'Algorithm':clfs.keys(),'Accuracy_scaling':accuracy_scores,'Precision_scaling':precision_scores}).sort_values('Precision_scaling',ascending=False)"
   ]
  },
  {
   "cell_type": "code",
   "execution_count": 78,
   "metadata": {
    "execution": {
     "iopub.execute_input": "2022-04-28T03:28:08.113564Z",
     "iopub.status.busy": "2022-04-28T03:28:08.113280Z",
     "iopub.status.idle": "2022-04-28T03:28:08.127342Z",
     "shell.execute_reply": "2022-04-28T03:28:08.126713Z",
     "shell.execute_reply.started": "2022-04-28T03:28:08.113531Z"
    }
   },
   "outputs": [],
   "source": [
    "new_df = performance_df.merge(temp_df,on='Algorithm')"
   ]
  },
  {
   "cell_type": "markdown",
   "metadata": {},
   "source": [
    "### Try min_max scaler"
   ]
  },
  {
   "cell_type": "code",
   "execution_count": 79,
   "metadata": {
    "execution": {
     "iopub.execute_input": "2022-04-28T03:28:08.129409Z",
     "iopub.status.busy": "2022-04-28T03:28:08.128871Z",
     "iopub.status.idle": "2022-04-28T03:28:08.133887Z",
     "shell.execute_reply": "2022-04-28T03:28:08.133012Z",
     "shell.execute_reply.started": "2022-04-28T03:28:08.129370Z"
    }
   },
   "outputs": [],
   "source": [
    "#from sklearn.preprocessing import MinMaxScaler\n",
    "#scaler = MinMaxScaler()\n",
    "#X = scaler.fit_transform(X)"
   ]
  },
  {
   "cell_type": "code",
   "execution_count": 80,
   "metadata": {
    "execution": {
     "iopub.execute_input": "2022-04-28T03:28:08.135296Z",
     "iopub.status.busy": "2022-04-28T03:28:08.135113Z",
     "iopub.status.idle": "2022-04-28T03:28:08.144497Z",
     "shell.execute_reply": "2022-04-28T03:28:08.143904Z",
     "shell.execute_reply.started": "2022-04-28T03:28:08.135272Z"
    }
   },
   "outputs": [],
   "source": [
    "# appending the num_character col to X\n",
    "#X = np.hstack((X,df['num_characters'].values.reshape(-1,1)))"
   ]
  },
  {
   "cell_type": "code",
   "execution_count": 81,
   "metadata": {
    "execution": {
     "iopub.execute_input": "2022-04-28T03:28:08.145913Z",
     "iopub.status.busy": "2022-04-28T03:28:08.145383Z",
     "iopub.status.idle": "2022-04-28T03:28:08.159630Z",
     "shell.execute_reply": "2022-04-28T03:28:08.158823Z",
     "shell.execute_reply.started": "2022-04-28T03:28:08.145882Z"
    }
   },
   "outputs": [],
   "source": [
    "new_df_scaled = new_df.merge(temp_df,on='Algorithm')"
   ]
  },
  {
   "cell_type": "code",
   "execution_count": 82,
   "metadata": {
    "execution": {
     "iopub.execute_input": "2022-04-28T03:28:08.160895Z",
     "iopub.status.busy": "2022-04-28T03:28:08.160665Z",
     "iopub.status.idle": "2022-04-28T03:28:08.177827Z",
     "shell.execute_reply": "2022-04-28T03:28:08.176974Z",
     "shell.execute_reply.started": "2022-04-28T03:28:08.160861Z"
    }
   },
   "outputs": [],
   "source": [
    "temp_df = pd.DataFrame({'Algorithm':clfs.keys(),'Accuracy_num_chars':accuracy_scores,'Precision_num_chars':precision_scores}).sort_values('Precision_num_chars',ascending=False)"
   ]
  },
  {
   "cell_type": "code",
   "execution_count": 83,
   "metadata": {
    "execution": {
     "iopub.execute_input": "2022-04-28T03:28:08.179079Z",
     "iopub.status.busy": "2022-04-28T03:28:08.178879Z",
     "iopub.status.idle": "2022-04-28T03:28:08.203350Z",
     "shell.execute_reply": "2022-04-28T03:28:08.202806Z",
     "shell.execute_reply.started": "2022-04-28T03:28:08.179055Z"
    }
   },
   "outputs": [
    {
     "data": {
      "text/html": [
       "<div>\n",
       "<style scoped>\n",
       "    .dataframe tbody tr th:only-of-type {\n",
       "        vertical-align: middle;\n",
       "    }\n",
       "\n",
       "    .dataframe tbody tr th {\n",
       "        vertical-align: top;\n",
       "    }\n",
       "\n",
       "    .dataframe thead th {\n",
       "        text-align: right;\n",
       "    }\n",
       "</style>\n",
       "<table border=\"1\" class=\"dataframe\">\n",
       "  <thead>\n",
       "    <tr style=\"text-align: right;\">\n",
       "      <th></th>\n",
       "      <th>Algorithm</th>\n",
       "      <th>Test_Accuracy</th>\n",
       "      <th>Precision</th>\n",
       "      <th>Recall</th>\n",
       "      <th>F1_Score</th>\n",
       "      <th>Accuracy_scaling_x</th>\n",
       "      <th>Precision_scaling_x</th>\n",
       "      <th>Accuracy_scaling_y</th>\n",
       "      <th>Precision_scaling_y</th>\n",
       "      <th>Accuracy_num_chars</th>\n",
       "      <th>Precision_num_chars</th>\n",
       "    </tr>\n",
       "  </thead>\n",
       "  <tbody>\n",
       "    <tr>\n",
       "      <th>0</th>\n",
       "      <td>KN</td>\n",
       "      <td>0.905222</td>\n",
       "      <td>1.000000</td>\n",
       "      <td>0.289855</td>\n",
       "      <td>0.449438</td>\n",
       "      <td>0.905222</td>\n",
       "      <td>1.000000</td>\n",
       "      <td>0.905222</td>\n",
       "      <td>1.000000</td>\n",
       "      <td>0.905222</td>\n",
       "      <td>1.000000</td>\n",
       "    </tr>\n",
       "    <tr>\n",
       "      <th>1</th>\n",
       "      <td>NB</td>\n",
       "      <td>0.972921</td>\n",
       "      <td>1.000000</td>\n",
       "      <td>0.797101</td>\n",
       "      <td>0.887097</td>\n",
       "      <td>0.972921</td>\n",
       "      <td>1.000000</td>\n",
       "      <td>0.972921</td>\n",
       "      <td>1.000000</td>\n",
       "      <td>0.972921</td>\n",
       "      <td>1.000000</td>\n",
       "    </tr>\n",
       "    <tr>\n",
       "      <th>2</th>\n",
       "      <td>ETC</td>\n",
       "      <td>0.977756</td>\n",
       "      <td>0.983193</td>\n",
       "      <td>0.847826</td>\n",
       "      <td>0.910506</td>\n",
       "      <td>0.977756</td>\n",
       "      <td>0.983193</td>\n",
       "      <td>0.977756</td>\n",
       "      <td>0.983193</td>\n",
       "      <td>0.977756</td>\n",
       "      <td>0.983193</td>\n",
       "    </tr>\n",
       "    <tr>\n",
       "      <th>3</th>\n",
       "      <td>RF</td>\n",
       "      <td>0.971954</td>\n",
       "      <td>0.973913</td>\n",
       "      <td>0.811594</td>\n",
       "      <td>0.885375</td>\n",
       "      <td>0.971954</td>\n",
       "      <td>0.973913</td>\n",
       "      <td>0.971954</td>\n",
       "      <td>0.973913</td>\n",
       "      <td>0.971954</td>\n",
       "      <td>0.973913</td>\n",
       "    </tr>\n",
       "    <tr>\n",
       "      <th>4</th>\n",
       "      <td>SVC</td>\n",
       "      <td>0.974855</td>\n",
       "      <td>0.966667</td>\n",
       "      <td>0.840580</td>\n",
       "      <td>0.899225</td>\n",
       "      <td>0.974855</td>\n",
       "      <td>0.966667</td>\n",
       "      <td>0.974855</td>\n",
       "      <td>0.966667</td>\n",
       "      <td>0.974855</td>\n",
       "      <td>0.966667</td>\n",
       "    </tr>\n",
       "    <tr>\n",
       "      <th>5</th>\n",
       "      <td>LR</td>\n",
       "      <td>0.957447</td>\n",
       "      <td>0.951923</td>\n",
       "      <td>0.717391</td>\n",
       "      <td>0.818182</td>\n",
       "      <td>0.957447</td>\n",
       "      <td>0.951923</td>\n",
       "      <td>0.957447</td>\n",
       "      <td>0.951923</td>\n",
       "      <td>0.957447</td>\n",
       "      <td>0.951923</td>\n",
       "    </tr>\n",
       "    <tr>\n",
       "      <th>6</th>\n",
       "      <td>XGB</td>\n",
       "      <td>0.969052</td>\n",
       "      <td>0.941667</td>\n",
       "      <td>0.818841</td>\n",
       "      <td>0.875969</td>\n",
       "      <td>0.969052</td>\n",
       "      <td>0.941667</td>\n",
       "      <td>0.969052</td>\n",
       "      <td>0.941667</td>\n",
       "      <td>0.969052</td>\n",
       "      <td>0.941667</td>\n",
       "    </tr>\n",
       "    <tr>\n",
       "      <th>7</th>\n",
       "      <td>AdaBoost</td>\n",
       "      <td>0.964217</td>\n",
       "      <td>0.931624</td>\n",
       "      <td>0.789855</td>\n",
       "      <td>0.854902</td>\n",
       "      <td>0.964217</td>\n",
       "      <td>0.931624</td>\n",
       "      <td>0.964217</td>\n",
       "      <td>0.931624</td>\n",
       "      <td>0.964217</td>\n",
       "      <td>0.931624</td>\n",
       "    </tr>\n",
       "    <tr>\n",
       "      <th>8</th>\n",
       "      <td>GBDT</td>\n",
       "      <td>0.948743</td>\n",
       "      <td>0.929293</td>\n",
       "      <td>0.666667</td>\n",
       "      <td>0.776371</td>\n",
       "      <td>0.948743</td>\n",
       "      <td>0.929293</td>\n",
       "      <td>0.948743</td>\n",
       "      <td>0.929293</td>\n",
       "      <td>0.948743</td>\n",
       "      <td>0.929293</td>\n",
       "    </tr>\n",
       "    <tr>\n",
       "      <th>9</th>\n",
       "      <td>BgC</td>\n",
       "      <td>0.954545</td>\n",
       "      <td>0.852713</td>\n",
       "      <td>0.797101</td>\n",
       "      <td>0.823970</td>\n",
       "      <td>0.954545</td>\n",
       "      <td>0.852713</td>\n",
       "      <td>0.954545</td>\n",
       "      <td>0.852713</td>\n",
       "      <td>0.954545</td>\n",
       "      <td>0.852713</td>\n",
       "    </tr>\n",
       "    <tr>\n",
       "      <th>10</th>\n",
       "      <td>DT</td>\n",
       "      <td>0.934236</td>\n",
       "      <td>0.850000</td>\n",
       "      <td>0.615942</td>\n",
       "      <td>0.714286</td>\n",
       "      <td>0.934236</td>\n",
       "      <td>0.850000</td>\n",
       "      <td>0.934236</td>\n",
       "      <td>0.850000</td>\n",
       "      <td>0.934236</td>\n",
       "      <td>0.850000</td>\n",
       "    </tr>\n",
       "  </tbody>\n",
       "</table>\n",
       "</div>"
      ],
      "text/plain": [
       "   Algorithm  Test_Accuracy  Precision    Recall  F1_Score  \\\n",
       "0         KN       0.905222   1.000000  0.289855  0.449438   \n",
       "1         NB       0.972921   1.000000  0.797101  0.887097   \n",
       "2        ETC       0.977756   0.983193  0.847826  0.910506   \n",
       "3         RF       0.971954   0.973913  0.811594  0.885375   \n",
       "4        SVC       0.974855   0.966667  0.840580  0.899225   \n",
       "5         LR       0.957447   0.951923  0.717391  0.818182   \n",
       "6        XGB       0.969052   0.941667  0.818841  0.875969   \n",
       "7   AdaBoost       0.964217   0.931624  0.789855  0.854902   \n",
       "8       GBDT       0.948743   0.929293  0.666667  0.776371   \n",
       "9        BgC       0.954545   0.852713  0.797101  0.823970   \n",
       "10        DT       0.934236   0.850000  0.615942  0.714286   \n",
       "\n",
       "    Accuracy_scaling_x  Precision_scaling_x  Accuracy_scaling_y  \\\n",
       "0             0.905222             1.000000            0.905222   \n",
       "1             0.972921             1.000000            0.972921   \n",
       "2             0.977756             0.983193            0.977756   \n",
       "3             0.971954             0.973913            0.971954   \n",
       "4             0.974855             0.966667            0.974855   \n",
       "5             0.957447             0.951923            0.957447   \n",
       "6             0.969052             0.941667            0.969052   \n",
       "7             0.964217             0.931624            0.964217   \n",
       "8             0.948743             0.929293            0.948743   \n",
       "9             0.954545             0.852713            0.954545   \n",
       "10            0.934236             0.850000            0.934236   \n",
       "\n",
       "    Precision_scaling_y  Accuracy_num_chars  Precision_num_chars  \n",
       "0              1.000000            0.905222             1.000000  \n",
       "1              1.000000            0.972921             1.000000  \n",
       "2              0.983193            0.977756             0.983193  \n",
       "3              0.973913            0.971954             0.973913  \n",
       "4              0.966667            0.974855             0.966667  \n",
       "5              0.951923            0.957447             0.951923  \n",
       "6              0.941667            0.969052             0.941667  \n",
       "7              0.931624            0.964217             0.931624  \n",
       "8              0.929293            0.948743             0.929293  \n",
       "9              0.852713            0.954545             0.852713  \n",
       "10             0.850000            0.934236             0.850000  "
      ]
     },
     "execution_count": 83,
     "metadata": {},
     "output_type": "execute_result"
    }
   ],
   "source": [
    "new_df_scaled.merge(temp_df,on='Algorithm')"
   ]
  },
  {
   "cell_type": "markdown",
   "metadata": {},
   "source": [
    "#### No major improvement after scaling the features. But after setting max_feature = 3000, we did observe a better accuracy and precision"
   ]
  },
  {
   "cell_type": "markdown",
   "metadata": {},
   "source": [
    "### Try Voting classifier with NB, SVM and ETC combination"
   ]
  },
  {
   "cell_type": "code",
   "execution_count": 84,
   "metadata": {
    "execution": {
     "iopub.execute_input": "2022-04-28T03:28:08.205024Z",
     "iopub.status.busy": "2022-04-28T03:28:08.204836Z",
     "iopub.status.idle": "2022-04-28T03:28:08.210633Z",
     "shell.execute_reply": "2022-04-28T03:28:08.210036Z",
     "shell.execute_reply.started": "2022-04-28T03:28:08.205000Z"
    }
   },
   "outputs": [],
   "source": [
    "# Voting Classifier\n",
    "svc = SVC(kernel='sigmoid', gamma=1.0,probability=True)\n",
    "mnb = MultinomialNB()\n",
    "etc = ExtraTreesClassifier(n_estimators=50, random_state=2)\n",
    "\n",
    "from sklearn.ensemble import VotingClassifier"
   ]
  },
  {
   "cell_type": "code",
   "execution_count": 85,
   "metadata": {
    "execution": {
     "iopub.execute_input": "2022-04-28T03:28:08.214010Z",
     "iopub.status.busy": "2022-04-28T03:28:08.211587Z",
     "iopub.status.idle": "2022-04-28T03:28:08.221712Z",
     "shell.execute_reply": "2022-04-28T03:28:08.220708Z",
     "shell.execute_reply.started": "2022-04-28T03:28:08.213973Z"
    }
   },
   "outputs": [],
   "source": [
    "voting = VotingClassifier(estimators=[('svm', svc), ('nb', mnb), ('et', etc)],voting='soft')"
   ]
  },
  {
   "cell_type": "code",
   "execution_count": 86,
   "metadata": {
    "execution": {
     "iopub.execute_input": "2022-04-28T03:28:08.223009Z",
     "iopub.status.busy": "2022-04-28T03:28:08.222810Z",
     "iopub.status.idle": "2022-04-28T03:28:59.002497Z",
     "shell.execute_reply": "2022-04-28T03:28:59.001780Z",
     "shell.execute_reply.started": "2022-04-28T03:28:08.222985Z"
    }
   },
   "outputs": [
    {
     "data": {
      "text/plain": [
       "VotingClassifier(estimators=[('svm',\n",
       "                              SVC(gamma=1.0, kernel='sigmoid',\n",
       "                                  probability=True)),\n",
       "                             ('nb', MultinomialNB()),\n",
       "                             ('et',\n",
       "                              ExtraTreesClassifier(n_estimators=50,\n",
       "                                                   random_state=2))],\n",
       "                 voting='soft')"
      ]
     },
     "execution_count": 86,
     "metadata": {},
     "output_type": "execute_result"
    }
   ],
   "source": [
    "voting.fit(X_train,y_train)"
   ]
  },
  {
   "cell_type": "code",
   "execution_count": 87,
   "metadata": {
    "execution": {
     "iopub.execute_input": "2022-04-28T03:28:59.003798Z",
     "iopub.status.busy": "2022-04-28T03:28:59.003559Z",
     "iopub.status.idle": "2022-04-28T03:29:00.310516Z",
     "shell.execute_reply": "2022-04-28T03:29:00.309532Z",
     "shell.execute_reply.started": "2022-04-28T03:28:59.003770Z"
    }
   },
   "outputs": [
    {
     "name": "stdout",
     "output_type": "stream",
     "text": [
      "Accuracy 0.9796905222437138\n",
      "Precision 0.975609756097561\n"
     ]
    }
   ],
   "source": [
    "y_pred = voting.predict(X_test)\n",
    "print(\"Accuracy\",accuracy_score(y_test,y_pred))\n",
    "print(\"Precision\",precision_score(y_test,y_pred))"
   ]
  },
  {
   "cell_type": "markdown",
   "metadata": {},
   "source": [
    "### Try Stacking classifier with NB, SVM and ETC combination"
   ]
  },
  {
   "cell_type": "code",
   "execution_count": 88,
   "metadata": {
    "execution": {
     "iopub.execute_input": "2022-04-28T03:29:00.313212Z",
     "iopub.status.busy": "2022-04-28T03:29:00.312162Z",
     "iopub.status.idle": "2022-04-28T03:29:00.318081Z",
     "shell.execute_reply": "2022-04-28T03:29:00.317243Z",
     "shell.execute_reply.started": "2022-04-28T03:29:00.313162Z"
    }
   },
   "outputs": [],
   "source": [
    "# Applying stacking\n",
    "estimators=[('svm', svc), ('nb', mnb), ('et', etc)]\n",
    "final_estimator=RandomForestClassifier()"
   ]
  },
  {
   "cell_type": "code",
   "execution_count": 89,
   "metadata": {
    "execution": {
     "iopub.execute_input": "2022-04-28T03:29:00.320506Z",
     "iopub.status.busy": "2022-04-28T03:29:00.319583Z",
     "iopub.status.idle": "2022-04-28T03:29:00.329219Z",
     "shell.execute_reply": "2022-04-28T03:29:00.328358Z",
     "shell.execute_reply.started": "2022-04-28T03:29:00.320442Z"
    }
   },
   "outputs": [],
   "source": [
    "from sklearn.ensemble import StackingClassifier"
   ]
  },
  {
   "cell_type": "code",
   "execution_count": 90,
   "metadata": {
    "execution": {
     "iopub.execute_input": "2022-04-28T03:29:00.335445Z",
     "iopub.status.busy": "2022-04-28T03:29:00.330533Z",
     "iopub.status.idle": "2022-04-28T03:29:00.340080Z",
     "shell.execute_reply": "2022-04-28T03:29:00.339522Z",
     "shell.execute_reply.started": "2022-04-28T03:29:00.335390Z"
    }
   },
   "outputs": [],
   "source": [
    "clf = StackingClassifier(estimators=estimators, final_estimator=final_estimator)"
   ]
  },
  {
   "cell_type": "code",
   "execution_count": 91,
   "metadata": {
    "execution": {
     "iopub.execute_input": "2022-04-28T03:29:00.341396Z",
     "iopub.status.busy": "2022-04-28T03:29:00.341045Z",
     "iopub.status.idle": "2022-04-28T03:32:58.569518Z",
     "shell.execute_reply": "2022-04-28T03:32:58.568670Z",
     "shell.execute_reply.started": "2022-04-28T03:29:00.341371Z"
    },
    "scrolled": true
   },
   "outputs": [
    {
     "name": "stdout",
     "output_type": "stream",
     "text": [
      "Accuracy 0.9796905222437138\n",
      "Precision 0.9465648854961832\n"
     ]
    }
   ],
   "source": [
    "clf.fit(X_train,y_train)\n",
    "y_pred = clf.predict(X_test)\n",
    "print(\"Accuracy\",accuracy_score(y_test,y_pred))\n",
    "print(\"Precision\",precision_score(y_test,y_pred))"
   ]
  },
  {
   "cell_type": "markdown",
   "metadata": {},
   "source": [
    "#### No significant improvement in performance post voting and stacking classifiers. "
   ]
  },
  {
   "cell_type": "markdown",
   "metadata": {},
   "source": [
    "<a id=\"9\"></a>\n",
    "# <p style=\"background-color:mediumturquoise;font-family:newtimeroman;font-size:150%;color:white;text-align:center;border-radius:20px 60px;\">Final Model</p>"
   ]
  },
  {
   "cell_type": "markdown",
   "metadata": {},
   "source": [
    "### Hence we will use our Multinomial NAIVE BAYES as our final model as it has the best combination of precision and accuracy"
   ]
  },
  {
   "cell_type": "markdown",
   "metadata": {},
   "source": [
    "    Accuracy  : 0.97\n",
    "    Precision : 1"
   ]
  },
  {
   "cell_type": "markdown",
   "metadata": {},
   "source": [
    "### Convert our code to model and save it"
   ]
  },
  {
   "cell_type": "code",
   "execution_count": null,
   "metadata": {},
   "outputs": [],
   "source": [
    "import pickle\n",
    "#pickle.dump(tfidf,open('vectorizer.pkl','wb'))\n",
    "#pickle.dump(mnb,open('model.pkl','wb'))"
   ]
  },
  {
   "cell_type": "markdown",
   "metadata": {},
   "source": [
    "<a id=\"10\"></a>\n",
    "# <p style=\"background-color:mediumturquoise;font-family:newtimeroman;font-size:150%;color:white;text-align:center;border-radius:20px 60px;\">CONCLUSION</p>\n",
    "\n",
    "#### Out of multiple classifers tried, we finally went with Multinomial Naive Bayes based on the evaluation metrics : Precision and Accuracy (on test data)\n",
    "\n",
    "![](https://miro.medium.com/max/824/1*xMl_wkMt42Hy8i84zs2WGg.png)\n",
    "\n",
    "#### Note :\n",
    "    For us, a higher value of False Positive will be the worst case scenario as non-spam emails getting classified as \"Spam\" can result in real damage. Hence in order to ensure minimum False Positive implies that we need to have a Higher Precision value and that's what makes Precision the most important Evaluation Metric for us\n",
    "    \n",
    "    \n",
    "    \n",
    "#### Hence we went ahead with the model with offered 100% Precision score with 97% Accuracy o our test data!"
   ]
  },
  {
   "cell_type": "markdown",
   "metadata": {},
   "source": [
    "![](https://blogcdn.gmass.co/blog/wp-content/uploads/2020/12/Featured-image-5-ways-to-stop-spam-119kb.png)"
   ]
  }
 ],
 "metadata": {
  "kernelspec": {
   "display_name": "Python 3 (ipykernel)",
   "language": "python",
   "name": "python3"
  },
  "language_info": {
   "codemirror_mode": {
    "name": "ipython",
    "version": 3
   },
   "file_extension": ".py",
   "mimetype": "text/x-python",
   "name": "python",
   "nbconvert_exporter": "python",
   "pygments_lexer": "ipython3",
   "version": "3.8.12"
  }
 },
 "nbformat": 4,
 "nbformat_minor": 4
}
